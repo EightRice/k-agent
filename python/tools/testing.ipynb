{
 "cells": [
  {
   "cell_type": "code",
   "execution_count": null,
   "metadata": {},
   "outputs": [],
   "source": []
  },
  {
   "cell_type": "code",
   "execution_count": null,
   "metadata": {},
   "outputs": [],
   "source": [
    "def call_contract(proposal_metadata):\n",
    "    public_key=\"tz1T5kk65F9oZw2z1YV4osfcrX7eD5KtLj3c\"\n",
    "    mers=False\n",
    "    something=None\n",
    "    global stuff\n",
    "    try:\n",
    "        result = contract.propose(public_key, 10000, proposal_metadata ).send(min_confirmations=1)\n",
    "        mers=True\n",
    "    except Exception as e:\n",
    "        print(\"exception: \",e)\n",
    "        something=e\n",
    "    if not mers:\n",
    "        return something\n",
    "    else:\n",
    "        return \"Transaction submitted.\"\n",
    "call_contract(proposal_metadata=hex_string)"
   ]
  }
 ],
 "metadata": {
  "language_info": {
   "name": "python"
  }
 },
 "nbformat": 4,
 "nbformat_minor": 2
}
