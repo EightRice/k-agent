{
 "cells": [
  {
   "cell_type": "code",
   "execution_count": 6,
   "metadata": {},
   "outputs": [
    {
     "name": "stdout",
     "output_type": "stream",
     "text": [
      "None\n"
     ]
    }
   ],
   "source": [
    "import os\n",
    "a=os.getenv('tezos_wallet_1')\n",
    "print(a)"
   ]
  },
  {
   "cell_type": "code",
   "execution_count": 28,
   "metadata": {},
   "outputs": [],
   "source": [
    "lambda_code='''(lambda %new_handler (unit) : unit\n",
    "  {\n",
    "    DROP;\n",
    "    NIL operation;\n",
    "    PAIR;\n",
    "  })'''\n"
   ]
  },
  {
   "cell_type": "code",
   "execution_count": 185,
   "metadata": {},
   "outputs": [],
   "source": [
    "from pytezos import pytezos\n",
    "from dotenv import dotenv_values\n",
    "# Load the .env file\n",
    "env_vars = dotenv_values(\".env\")\n",
    "private_key=env_vars.get(\"TEZOS_WALLET_1\")\n",
    "pytezos = pytezos.using(key=private_key, shell='https://ghostnet.ecadinfra.com')\n",
    "# Define the contract address\n",
    "contract_address = 'KT1VG3ynsnyxFGzw9mdBwYnyZAF8HZvqnNkw'\n",
    "public_key=\"tz1T5kk65F9oZw2z1YV4osfcrX7eD5KtLj3c\"\n",
    "# Load the contract\n",
    "contract = pytezos.contract(contract_address)\n",
    "result = contract.registryCepDummy().send(min_confirmations=1)"
   ]
  },
  {
   "cell_type": "code",
   "execution_count": 144,
   "metadata": {},
   "outputs": [
    {
     "name": "stdout",
     "output_type": "stream",
     "text": [
      "Add_handler metadata (hex):\n",
      "000000001270726f706f73616c5f68616e646c65725f31000000280a7b0a2020434452203b0a20204e494c206f7065726174696f6e203b0a202050414952203b0a7d0a000000170a7b0a202044524f50203b0a2020554e4954203b0a7d0a\n",
      "\n",
      "Remove_handler metadata (hex):\n",
      "010000001270726f706f73616c5f68616e646c65725f31\n",
      "\n",
      "Execute_handler metadata (hex):\n",
      "020000001270726f706f73616c5f68616e646c65725f310000000f0000000b5465737420737472696e67\n"
     ]
    }
   ],
   "source": [
    "import struct\n",
    "import binascii\n",
    "\n",
    "def pack_string(s):\n",
    "    encoded = s.encode('utf-8')\n",
    "    return struct.pack('>I', len(encoded)) + encoded\n",
    "\n",
    "def pack_bytes(b):\n",
    "    return struct.pack('>I', len(b)) + b\n",
    "\n",
    "def generate_add_handler_metadata(name, handler_code, handler_check):\n",
    "    return b'\\x00' + pack_string(name) + pack_bytes(handler_code) + pack_bytes(handler_check)\n",
    "\n",
    "def generate_remove_handler_metadata(name):\n",
    "    return b'\\x01' + pack_string(name)\n",
    "\n",
    "def generate_execute_handler_metadata(handler_name, packed_argument):\n",
    "    return b'\\x02' + pack_string(handler_name) + pack_bytes(packed_argument)\n",
    "\n",
    "# Example Michelson code (simplified for demonstration)\n",
    "SIMPLE_HANDLER = \"\"\"\n",
    "{\n",
    "  CDR ;\n",
    "  NIL operation ;\n",
    "  PAIR ;\n",
    "}\n",
    "\"\"\"\n",
    "\n",
    "SIMPLE_HANDLER_CHECK = \"\"\"\n",
    "{\n",
    "  DROP ;\n",
    "  UNIT ;\n",
    "}\n",
    "\"\"\"\n",
    "\n",
    "if __name__ == \"__main__\":\n",
    "    # Generate add_handler metadata\n",
    "    add_handler_metadata = generate_add_handler_metadata(\n",
    "        \"proposal_handler_1\",\n",
    "        SIMPLE_HANDLER.encode(),\n",
    "        SIMPLE_HANDLER_CHECK.encode()\n",
    "    )\n",
    "    print(\"add_handler metadata (hex):\")\n",
    "    print(binascii.hexlify(add_handler_metadata).decode())\n",
    "\n",
    "    # Generate Remove_handler metadata\n",
    "    remove_handler_metadata = generate_remove_handler_metadata(\"proposal_handler_1\")\n",
    "    print(\"\\nRemove_handler metadata (hex):\")\n",
    "    print(binascii.hexlify(remove_handler_metadata).decode())\n",
    "\n",
    "    # Generate Execute_handler metadata\n",
    "    execute_handler_metadata = generate_execute_handler_metadata(\n",
    "        \"proposal_handler_1\",\n",
    "        pack_bytes(b\"Test string\")  # Simulating a packed argument\n",
    "    )\n",
    "    print(\"\\nExecute_handler metadata (hex):\")\n",
    "    print(binascii.hexlify(execute_handler_metadata).decode())"
   ]
  },
  {
   "cell_type": "code",
   "execution_count": 59,
   "metadata": {},
   "outputs": [
    {
     "data": {
      "text/plain": [
       "bytes"
      ]
     },
     "execution_count": 59,
     "metadata": {},
     "output_type": "execute_result"
    }
   ],
   "source": [
    "last_metadata=bytes(\"\", \"utf-8\")\n",
    "type(last_metadata)"
   ]
  },
  {
   "cell_type": "code",
   "execution_count": null,
   "metadata": {},
   "outputs": [],
   "source": [
    "from dotenv import dotenv_values\n",
    "# Load the .env file\n",
    "env_vars = dotenv_values(\".env\")\n",
    "env_vars.get(\"API_KEY_OPENAI\")"
   ]
  },
  {
   "cell_type": "code",
   "execution_count": 150,
   "metadata": {},
   "outputs": [
    {
     "name": "stdout",
     "output_type": "stream",
     "text": [
      "Packed Hex String: 0000000f6578616d706c655f68616e646c6572\n"
     ]
    }
   ],
   "source": [
    "import json\n",
    "import struct\n",
    "\n",
    "# Michelson schema string\n",
    "michelson_schema_string = \"\"\"\n",
    "(or \n",
    "  (or \n",
    "    (pair %add_handler\n",
    "      (pair (lambda %code\n",
    "              (pair (pair (map %handler_storage string bytes) (bytes %packed_argument))\n",
    "                    (pair %proposal_info\n",
    "                        (address %from)\n",
    "                        (nat %frozen_token)\n",
    "                        (bytes %proposal_metadata)))\n",
    "              (pair (pair (option %guardian address) (map %handler_storage string bytes))\n",
    "                    (list %operations operation)))\n",
    "            (lambda %handler_check (pair bytes (map string bytes)) unit))\n",
    "      (string %name))\n",
    "    (pair %execute_handler (string %handler_name) (bytes %packed_argument)))\n",
    "  (string %remove_handler))\n",
    "\"\"\"\n",
    "\n",
    "# JSON data to encode\n",
    "data_to_encode = {\n",
    "  \"add_handler\": {\n",
    "    \"name\": \"example_handler\",\n",
    "    \"code\": {\n",
    "      \"prim\": \"PUSH\",\n",
    "      \"args\": [\n",
    "        { \"prim\": \"unit\" },\n",
    "        { \"prim\": \"Unit\" }\n",
    "      ]\n",
    "    },\n",
    "    \"handler_check\": {\n",
    "      \"prim\": \"PUSH\",\n",
    "      \"args\": [\n",
    "        { \"prim\": \"unit\" },\n",
    "        { \"prim\": \"Unit\" }\n",
    "      ]\n",
    "    }\n",
    "  }\n",
    "}\n",
    "\n",
    "# Function to encode Michelson data\n",
    "def encode_michelson_data(data):\n",
    "    def encode_prim(prim, args):\n",
    "        encoded = b''\n",
    "        if prim == 'Pair':\n",
    "            # Assumes that args are encoded sequentially\n",
    "            for arg in args:\n",
    "                encoded += encode_michelson_data(arg)\n",
    "        elif prim == 'string':\n",
    "            encoded_string = args[0]\n",
    "            length = len(encoded_string)\n",
    "            encoded = struct.pack(\">I\", length) + encoded_string.encode()\n",
    "        elif prim == 'bytes':\n",
    "            encoded_bytes = args[0]\n",
    "            encoded = bytes.fromhex(encoded_bytes)\n",
    "        elif prim == 'unit':\n",
    "            encoded = b'\\x00'\n",
    "        return encoded\n",
    "\n",
    "    if isinstance(data, dict) and 'prim' in data:\n",
    "        return encode_prim(data['prim'], data['args'])\n",
    "    elif isinstance(data, dict) and 'string' in data:\n",
    "        return encode_prim('string', [data['string']])\n",
    "    elif isinstance(data, dict) and 'bytes' in data:\n",
    "        return encode_prim('bytes', [data['bytes']])\n",
    "    elif isinstance(data, dict) and 'unit' in data:\n",
    "        return encode_prim('unit', [])\n",
    "\n",
    "    raise ValueError(\"Unsupported Michelson data format\")\n",
    "\n",
    "# Wrap the data to match the expected format in the schema\n",
    "wrapped_data = {\n",
    "    \"prim\": \"Pair\",\n",
    "    \"args\": [\n",
    "        {\"string\": data_to_encode[\"add_handler\"][\"name\"]},\n",
    "        {\n",
    "            \"prim\": \"Pair\",\n",
    "            \"args\": [\n",
    "                data_to_encode[\"add_handler\"][\"code\"],\n",
    "                data_to_encode[\"add_handler\"][\"handler_check\"]\n",
    "            ]\n",
    "        }\n",
    "    ]\n",
    "}\n",
    "\n",
    "# Encode data according to schema\n",
    "packed_data = encode_michelson_data(wrapped_data)\n",
    "\n",
    "# Convert to hex string\n",
    "hex_string = packed_data.hex()\n",
    "\n",
    "print(\"Packed Hex String:\", hex_string)\n"
   ]
  },
  {
   "cell_type": "code",
   "execution_count": 151,
   "metadata": {},
   "outputs": [
    {
     "data": {
      "text/plain": [
       "{'prim': 'Pair',\n",
       " 'args': [{'string': 'example_handler'},\n",
       "  {'prim': 'Pair',\n",
       "   'args': [{'prim': 'PUSH', 'args': [{'prim': 'unit'}, {'prim': 'Unit'}]},\n",
       "    {'prim': 'PUSH', 'args': [{'prim': 'unit'}, {'prim': 'Unit'}]}]}]}"
      ]
     },
     "execution_count": 151,
     "metadata": {},
     "output_type": "execute_result"
    }
   ],
   "source": [
    "wrapped_data"
   ]
  },
  {
   "cell_type": "code",
   "execution_count": 135,
   "metadata": {},
   "outputs": [
    {
     "name": "stdout",
     "output_type": "stream",
     "text": [
      "last metadata b''\n",
      "curr metadata 7b2268616e646c65725f6e616d65223a202268656c6c6f5f6e65772068616e646c6572222c2022636f6465223a2022707573682022737472696e6722202248656c6c6f2c20776f726c64212220273b204e494c20276f7065726174696f6e20273b2050414952227d\n",
      "*** USING CONTRACT INTERACTION TOOL ***\n",
      "exception:  ({'id': 'proto.020-PsParisC.michelson_v1.script_rejected',\n",
      "  'kind': 'temporary',\n",
      "  'location': 294,\n",
      "  'with': {'int': '111'}},)\n"
     ]
    },
    {
     "data": {
      "text/plain": [
       "<python.helpers.tool.Response at 0x7f88f0ad5000>"
      ]
     },
     "execution_count": 135,
     "metadata": {},
     "output_type": "execute_result"
    }
   ],
   "source": [
    "ctool.execute(proposal_metadata=\"7b2268616e646c65725f6e616d65223a202268656c6c6f5f6e65772068616e646c6572222c2022636f6465223a2022707573682022737472696e6722202248656c6c6f2c20776f726c64212220273b204e494c20276f7065726174696f6e20273b2050414952227d\")"
   ]
  },
  {
   "cell_type": "code",
   "execution_count": 93,
   "metadata": {},
   "outputs": [],
   "source": [
    "import json\n",
    "\n",
    "# Define the handler name, code, and handler check\n",
    "handler_name = \"hello_world_handler\"\n",
    "code = \"\"\"\n",
    "  { DROP ; PUSH string \"Hello, world!\" ; NIL operation ; PAIR }\n",
    "\"\"\"\n",
    "handler_check = \"\"\"\n",
    "  { DROP ; PUSH bool True }\n",
    "\"\"\"\n",
    "\n",
    "# Create the proposal_metadata dictionary\n",
    "proposal_metadata = {\n",
    "    \"handler_name\": handler_name,\n",
    "    \"code\": code,\n",
    "    \"handler_check\": handler_check\n",
    "}\n",
    "\n",
    "# Encode the metadata as JSON, then to UTF-8 bytes, and finally to a hex string\n",
    "encoded_metadata = json.dumps(proposal_metadata).encode('utf-8').hex() # parameter that goes into the contract_interaction call\n",
    "type(encoded_metadata)\n",
    "again= bytes(encoded_metadata, \"utf-8\")\n"
   ]
  },
  {
   "cell_type": "code",
   "execution_count": 79,
   "metadata": {},
   "outputs": [
    {
     "data": {
      "text/plain": [
       "bytes"
      ]
     },
     "execution_count": 79,
     "metadata": {},
     "output_type": "execute_result"
    }
   ],
   "source": [
    "type(again)"
   ]
  },
  {
   "cell_type": "code",
   "execution_count": 88,
   "metadata": {},
   "outputs": [
    {
     "name": "stdout",
     "output_type": "stream",
     "text": [
      "created contract\n"
     ]
    }
   ],
   "source": [
    "from pytezos import pytezos\n",
    "import json\n",
    "import binascii\n",
    "from dotenv import dotenv_values\n",
    "# Load the .env file\n",
    "rpc1=\"https://rpc.ghostnet.teztnets.com\"\n",
    "rpc2='https://ghostnet.ecadinfra.com'\n",
    "env_vars = dotenv_values(\".env\")\n",
    "private_key=env_vars.get(\"TEZOS_WALLET_1\")\n",
    "pytezos = pytezos.using(key=private_key, shell=rpc1)\n",
    "# Define the contract address\n",
    "contract_address = 'KT1VG3ynsnyxFGzw9mdBwYnyZAF8HZvqnNkw'\n",
    "# Load the contract\n",
    "contract = pytezos.contract(contract_address)\n",
    "print(\"created contract\")\n",
    "from python.helpers.tool import Tool, Response\n",
    "last_metadata=\"\"\n",
    "def call_contract(proposal_metadata=\"\", **kwargs):\n",
    "    global contract\n",
    "    global last_metadata\n",
    "    if proposal_metadata==last_metadata:\n",
    "        return Response(message=\"Error: the metadata hasn't changed since last try.\", break_loop=False)\n",
    "    print(\"new unique bytes string\")\n",
    "    last_metadata=proposal_metadata\n",
    "    print(\"*** USING CONTRACT INTERACTION TOOL ***\")\n",
    "    public_key=\"tz1T5kk65F9oZw2z1YV4osfcrX7eD5KtLj3c\"\n",
    "    mers=False\n",
    "    something=None\n",
    "    global stuff\n",
    "    try:\n",
    "        result = contract.propose(public_key, 10000,bytes(proposal_metadata, \"utf-8\")).send(min_confirmations=1)\n",
    "        mers=True\n",
    "    except Exception as e:\n",
    "        print(\"exception: \",e)\n",
    "        something=e\n",
    "    if not mers:\n",
    "        return something\n",
    "    else:\n",
    "        \"Transaction submitted.\""
   ]
  },
  {
   "cell_type": "code",
   "execution_count": 110,
   "metadata": {},
   "outputs": [],
   "source": [
    "import requests\n",
    "\n",
    "BASE_URL = \"http://127.0.0.1:5000\"\n",
    "\n",
    "def call_hello_endpoint(metadata):\n",
    "    response = requests.get(f\"{BASE_URL}/hello\", params={\"metadata\":metadata})\n",
    "    print(response.json())\n",
    "    return response\n"
   ]
  },
  {
   "cell_type": "code",
   "execution_count": 111,
   "metadata": {},
   "outputs": [
    {
     "name": "stdout",
     "output_type": "stream",
     "text": [
      "{'ERROR FROM CHAIN': \"({'id': 'proto.020-PsParisC.michelson_v1.script_rejected',\\n  'kind': 'temporary',\\n  'location': 294,\\n  'with': {'int': '111'}},)\"}\n",
      "<Response [200]>\n",
      "type <class 'requests.models.Response'>\n"
     ]
    }
   ],
   "source": [
    "response=call_hello_endpoint(\"7b1268616e646c65725f6e616d65223a202268656c6c6f5f776f726c645f68616e646c6572222c2022636f6465223a20227b20204452504f503b205055534820737472696e67202248656c6c6f2c20776f726c64212220203b20524e494c20206f7065726174696f6e20203b2050414952227d222c202268616e646c65725f636865636b223a20227b20204452504f503b20505553482062756c6c20547275657d227d\")\n",
    "print(response)\n",
    "print(\"type \"+str(type(response)))"
   ]
  },
  {
   "cell_type": "code",
   "execution_count": 126,
   "metadata": {},
   "outputs": [],
   "source": [
    "content = json.loads(response.content)"
   ]
  },
  {
   "cell_type": "code",
   "execution_count": 127,
   "metadata": {},
   "outputs": [
    {
     "data": {
      "text/plain": [
       "\"({'id': 'proto.020-PsParisC.michelson_v1.script_rejected',\\n  'kind': 'temporary',\\n  'location': 294,\\n  'with': {'int': '111'}},)\""
      ]
     },
     "execution_count": 127,
     "metadata": {},
     "output_type": "execute_result"
    }
   ],
   "source": [
    "content['ERROR FROM CHAIN']"
   ]
  },
  {
   "cell_type": "code",
   "execution_count": 95,
   "metadata": {},
   "outputs": [
    {
     "name": "stdout",
     "output_type": "stream",
     "text": [
      "new unique bytes string\n",
      "*** USING CONTRACT INTERACTION TOOL ***\n",
      "exception:  ({'id': 'proto.020-PsParisC.michelson_v1.script_rejected',\n",
      "  'kind': 'temporary',\n",
      "  'location': 294,\n",
      "  'with': {'int': '111'}},)\n"
     ]
    },
    {
     "data": {
      "text/plain": [
       "pytezos.rpc.errors.MichelsonError({'kind': 'temporary',\n",
       "                                   'id': 'proto.020-PsParisC.michelson_v1.script_rejected',\n",
       "                                   'location': 294,\n",
       "                                   'with': {'int': '111'}})"
      ]
     },
     "execution_count": 95,
     "metadata": {},
     "output_type": "execute_result"
    }
   ],
   "source": [
    "again= bytes(encoded_metadata, \"utf-8\")\n",
    "call_contract(proposal_metadata=\"a23fb2bfwebf2awv23va\")"
   ]
  },
  {
   "cell_type": "code",
   "execution_count": 49,
   "metadata": {},
   "outputs": [
    {
     "name": "stdout",
     "output_type": "stream",
     "text": [
      "7b2268616e646c65725f6e616d65223a202268656c6c6f5f776f726c645f68616e646c6572222c2022636f6465223a20225c6e20207b2044524f50203b205055534820737472696e67205c2248656c6c6f2c20776f726c64215c22203b204e494c206f7065726174696f6e203b2050414952207d5c6e222c202268616e646c65725f636865636b223a20225c6e20207b2044524f50203b205055534820626f6f6c2054727565207d5c6e227d\n"
     ]
    }
   ],
   "source": [
    "from . import prepare_metadata"
   ]
  },
  {
   "cell_type": "code",
   "execution_count": 44,
   "metadata": {},
   "outputs": [
    {
     "name": "stdout",
     "output_type": "stream",
     "text": [
      "7b2268616e646c65725f6e616d65223a202268656c6c6f5f776f726c645f68616e646c6572222c2022636f6465223a20225c6e20207b2044524f50203b205055534820737472696e67205c2248656c6c6f2c20776f726c64215c22203b204e494c206f7065726174696f6e203b2050414952207d5c6e222c202268616e646c65725f636865636b223a20225c6e20207b2044524f50203b205055534820626f6f6c2054727565207d5c6e227d\n"
     ]
    }
   ],
   "source": [
    "import json\n",
    "#https://www.youtube.com/watch?v=KHUn6KuNVMM\n",
    "# Define the handler name, code, and handler check\n",
    "handler_name = \"hello_world_handler\"\n",
    "code = \"\"\"\n",
    "  { DROP ; PUSH string \"Hello, world!\" ; NIL operation ; PAIR }\n",
    "\"\"\"\n",
    "handler_check = \"\"\"\n",
    "  { DROP ; PUSH bool True }\n",
    "\"\"\"\n",
    "\n",
    "# Create the proposal_metadata dictionary\n",
    "proposal_metadata = {\n",
    "    \"handler_name\": handler_name,\n",
    "    \"code\": code,\n",
    "    \"handler_check\": handler_check\n",
    "}\n",
    "\n",
    "# Encode the metadata as JSON, then to UTF-8 bytes, and finally to a hex string\n",
    "encoded_metadata = json.dumps(proposal_metadata).encode('utf-8').hex()\n",
    "\n",
    "print(encoded_metadata)\n"
   ]
  },
  {
   "cell_type": "code",
   "execution_count": 42,
   "metadata": {},
   "outputs": [],
   "source": [
    "handler_name = \"hello_world_handler\"\n",
    "code = \"\"\"\n",
    "  { DROP ; PUSH string \"Hello, world!\" ; NIL operation ; PAIR }\n",
    "\"\"\"\n",
    "handler_check = \"\"\"\n",
    "  { DROP ; PUSH bool True }\n",
    "\"\"\"\n",
    "\n",
    "# Create the proposal_metadata dictionary\n",
    "geison = {\n",
    "    \"handler_name\": handler_name,\n",
    "    \"code\": code,\n",
    "    \"handler_check\": handler_check\n",
    "}"
   ]
  },
  {
   "cell_type": "code",
   "execution_count": 43,
   "metadata": {},
   "outputs": [
    {
     "data": {
      "text/plain": [
       "'7b2268616e646c65725f6e616d65223a202268656c6c6f5f776f726c645f68616e646c6572222c2022636f6465223a20225c6e20207b2044524f50203b205055534820737472696e67205c2248656c6c6f2c20776f726c64215c22203b204e494c206f7065726174696f6e203b2050414952207d5c6e222c202268616e646c65725f636865636b223a20225c6e20207b2044524f50203b205055534820626f6f6c2054727565207d5c6e227d'"
      ]
     },
     "execution_count": 43,
     "metadata": {},
     "output_type": "execute_result"
    }
   ],
   "source": [
    "import json\n",
    "data = {\"key\": \"value\"}\n",
    "proposal_metadata = json.dumps(geison).encode('utf-8').hex()\n",
    "proposal_metadata"
   ]
  },
  {
   "cell_type": "code",
   "execution_count": 194,
   "metadata": {},
   "outputs": [],
   "source": [
    "ceva={\n",
    "  \"prim\": \"Pair\",\n",
    "  \"args\": [\n",
    "    {\"string\": \"new_handler\"},\n",
    "    {\n",
    "      \"prim\": \"lambda\",\n",
    "      \"args\": [\n",
    "        {\"prim\": \"unit\"},\n",
    "        {\"prim\": \"list\", \"args\": [{\"prim\": \"operation\"}]},\n",
    "        [\n",
    "          {\"prim\": \"DROP\"},\n",
    "          {\"prim\": \"NIL\", \"args\": [{\"prim\": \"operation\"}]},\n",
    "          {\"prim\": \"PAIR\"}\n",
    "        ]\n",
    "      ]\n",
    "    }\n",
    "  ]\n",
    "}\n"
   ]
  },
  {
   "cell_type": "code",
   "execution_count": null,
   "metadata": {},
   "outputs": [],
   "source": [
    "from pytezos import michelson\n",
    "code = '(Pair \"new_handler\" (lambda unit (list operation) { DROP; NIL operation; PAIR }))'\n",
    "a=michelson.parse(code)"
   ]
  },
  {
   "cell_type": "code",
   "execution_count": 143,
   "metadata": {},
   "outputs": [
    {
     "name": "stdout",
     "output_type": "stream",
     "text": [
      "Add_handler metadata (hex):\n",
      "0000000a6d795f68616e646c65720000000301020300000003040506\n",
      "\n",
      "Remove_handler metadata (hex):\n",
      "0000001168616e646c65725f746f5f72656d6f7665\n",
      "\n",
      "Execute_handler metadata (hex):\n",
      "0000001268616e646c65725f746f5f6578656375746500000003070809\n"
     ]
    }
   ],
   "source": [
    "import struct\n",
    "import binascii\n",
    "\n",
    "def pack_string(s):\n",
    "    encoded = s.encode('utf-8')\n",
    "    return struct.pack('>I', len(encoded)) + encoded\n",
    "\n",
    "def pack_bytes(b):\n",
    "    return struct.pack('>I', len(b)) + b\n",
    "\n",
    "def generate_add_handler_metadata(name, code, handler_check):\n",
    "    return pack_string(name) + pack_bytes(code) + pack_bytes(handler_check)\n",
    "\n",
    "def generate_remove_handler_metadata(name):\n",
    "    return pack_string(name)\n",
    "\n",
    "def generate_execute_handler_metadata(handler_name, packed_argument):\n",
    "    return pack_string(handler_name) + pack_bytes(packed_argument)\n",
    "\n",
    "# Generate add_handler metadata\n",
    "add_handler_metadata = generate_add_handler_metadata(\n",
    "    \"my_handler\",\n",
    "    b'\\x01\\x02\\x03',  # Placeholder for actual handler code\n",
    "    b'\\x04\\x05\\x06'   # Placeholder for actual handler_check code\n",
    ")\n",
    "print(\"add_handler metadata (hex):\")\n",
    "print(binascii.hexlify(add_handler_metadata).decode())\n",
    "\n",
    "# Generate Remove_handler metadata\n",
    "remove_handler_metadata = generate_remove_handler_metadata(\"handler_to_remove\")\n",
    "print(\"\\nRemove_handler metadata (hex):\")\n",
    "print(binascii.hexlify(remove_handler_metadata).decode())\n",
    "\n",
    "# Generate Execute_handler metadata\n",
    "execute_handler_metadata = generate_execute_handler_metadata(\n",
    "    \"handler_to_execute\",\n",
    "    b'\\x07\\x08\\x09'  # Placeholder for actual packed_argument\n",
    ")\n",
    "print(\"\\nExecute_handler metadata (hex):\")\n",
    "print(binascii.hexlify(execute_handler_metadata).decode())"
   ]
  },
  {
   "cell_type": "code",
   "execution_count": 7,
   "metadata": {},
   "outputs": [
    {
     "data": {
      "text/plain": [
       "'7b22706172616d65746572223a2022256e65775f68616e646c6572222c202273746f72616765223a20226f7065726174696f6e222c2022636f6465223a202250414952227d'"
      ]
     },
     "execution_count": 7,
     "metadata": {},
     "output_type": "execute_result"
    }
   ],
   "source": [
    "import json\n",
    "import binascii\n",
    "lambda_code='''(lambda %new_handler (unit) : unit\n",
    "  {\n",
    "    DROP;\n",
    "    NIL operation;\n",
    "    PAIR;\n",
    "  })'''\n",
    "# Example Michelson code\n",
    "michelson_code = lambda_code\n",
    "\n",
    "lines = lambda_code.strip().split(';')\n",
    "micheline = {'parameter': lines[0].split()[1], 'storage': lines[1].split()[1], 'code': lines[2].strip()}\n",
    "micheline_json = json.dumps(micheline)\n",
    "encoded_bytes = micheline_json.encode('utf-8')\n",
    "hex_string = binascii.hexlify(encoded_bytes).decode('utf-8')\n",
    "hex_string\n"
   ]
  },
  {
   "cell_type": "code",
   "execution_count": 15,
   "metadata": {},
   "outputs": [],
   "source": [
    "from pytezos import pytezos\n",
    "from dotenv import dotenv_values\n",
    "# Load the .env file\n",
    "env_vars = dotenv_values(\".env\")\n",
    "private_key=env_vars.get(\"TEZOS_WALLET_1\")\n",
    "pytezos = pytezos.using(key=private_key, shell='https://rpc.ghostnet.teztnets.com')\n",
    "# Define the contract address\n",
    "contract_address = 'KT1VG3ynsnyxFGzw9mdBwYnyZAF8HZvqnNkw' #DAO Thursday Bug Hunt\n",
    "# contract_address = 'KT1Je4UBengJdFq28TnecpsmiR73Au4bG9U6' #simple function contract\n",
    "# Load the contract\n",
    "contract = pytezos.contract(contract_address)"
   ]
  },
  {
   "cell_type": "code",
   "execution_count": null,
   "metadata": {},
   "outputs": [],
   "source": [
    "def call_contract(proposal_metadata):\n",
    "    public_key=\"tz1T5kk65F9oZw2z1YV4osfcrX7eD5KtLj3c\"\n",
    "    mers=False\n",
    "    something=None\n",
    "    global stuff\n",
    "    try:\n",
    "        result = contract.propose(public_key, 10000, proposal_metadata ).send(min_confirmations=1)\n",
    "        mers=True\n",
    "    except Exception as e:\n",
    "        print(\"exception: \",e)\n",
    "        something=e\n",
    "    if not mers:\n",
    "        return something\n",
    "    else:\n",
    "        return \"Transaction submitted.\"\n",
    "call_contract(proposal_metadata=hex_string)"
   ]
  },
  {
   "cell_type": "code",
   "execution_count": 23,
   "metadata": {},
   "outputs": [
    {
     "name": "stdout",
     "output_type": "stream",
     "text": [
      "exception:  ({'id': 'proto.020-PsParisC.michelson_v1.script_rejected',\n",
      "  'kind': 'temporary',\n",
      "  'location': 294,\n",
      "  'with': {'int': '111'}},)\n"
     ]
    },
    {
     "data": {
      "text/plain": [
       "pytezos.rpc.errors.MichelsonError({'kind': 'temporary',\n",
       "                                   'id': 'proto.020-PsParisC.michelson_v1.script_rejected',\n",
       "                                   'location': 294,\n",
       "                                   'with': {'int': '111'}})"
      ]
     },
     "execution_count": 23,
     "metadata": {},
     "output_type": "execute_result"
    }
   ],
   "source": [
    "# import json\n",
    "# import binascii\n",
    "# lambda_code='''(lambda %new_handler (unit) : unit\n",
    "#   {\n",
    "#     DROP;\n",
    "#     NIL operation;\n",
    "#     PAIR;\n",
    "#   })'''\n",
    "# # Example Michelson code\n",
    "# michelson_code = lambda_code\n",
    "\n",
    "# lines = lambda_code.strip().split(';')\n",
    "# micheline = {'parameter': lines[0].split()[1], 'storage': lines[1].split()[1], 'code': lines[2].strip()}\n",
    "# micheline_json = json.dumps(micheline)\n",
    "# encoded_bytes = micheline_json.encode('utf-8')\n",
    "# hex_string = binascii.hexlify(encoded_bytes).decode('utf-8')\n",
    "# print(hex_string)\n",
    "testnet1=\"https://ghostnet.ecadinfra.com\"\n",
    "testnet2=\"https://rpc.ghostnet.teztnets.com\"\n",
    "\n",
    "from pytezos import pytezos\n",
    "from dotenv import dotenv_values\n",
    "# Load the .env file\n",
    "env_vars = dotenv_values(\".env\")\n",
    "private_key=env_vars.get(\"TEZOS_WALLET_1\")\n",
    "pytezos = pytezos.using(key=private_key, shell=testnet2)\n",
    "# Define the contract address\n",
    "contract_address = 'KT1VG3ynsnyxFGzw9mdBwYnyZAF8HZvqnNkw' #DAO Thursday Bug Hunt\n",
    "# contract_address = 'KT1Je4UBengJdFq28TnecpsmiR73Au4bG9U6' #simple function contract\n",
    "# Load the contract\n",
    "contract = pytezos.contract(contract_address)\n",
    "\n",
    "import json\n",
    "import binascii\n",
    "lambda_code='''(lambda %new_handler (unit) : unit\n",
    "  {\n",
    "    DROP;\n",
    "    NIL operation;\n",
    "    PAIR;\n",
    "  })'''\n",
    "# Example Michelson code\n",
    "michelson_code = lambda_code\n",
    "\n",
    "lines = lambda_code.strip().split(';')\n",
    "micheline = {'parameter': lines[0].split()[1], 'storage': lines[1].split()[1], 'code': lines[2].strip()}\n",
    "micheline_json = json.dumps(micheline)\n",
    "encoded_bytes = micheline_json.encode('utf-8')\n",
    "hex_string = binascii.hexlify(encoded_bytes).decode('utf-8')\n",
    "\n",
    "\n",
    "def call_contract(proposal_metadata):\n",
    "    global hex_string\n",
    "    public_key=\"tz1T5kk65F9oZw2z1YV4osfcrX7eD5KtLj3c\"\n",
    "    mers=False\n",
    "    something=None\n",
    "    global stuff\n",
    "    try:\n",
    "        result = contract.propose(public_key, 10000, proposal_metadata ).send(min_confirmations=1)\n",
    "        mers=True\n",
    "    except Exception as e:\n",
    "        print(\"exception: \",e)\n",
    "        something=e\n",
    "    if not mers:\n",
    "        return something\n",
    "    else:\n",
    "        return \"Transaction submitted.\"\n",
    "call_contract(proposal_metadata=hex_string)"
   ]
  },
  {
   "cell_type": "code",
   "execution_count": 157,
   "metadata": {},
   "outputs": [
    {
     "ename": "ImportError",
     "evalue": "cannot import name 'MichelsonRuntime' from 'pytezos.michelson' (/usr/local/lib/python3.10/dist-packages/pytezos/michelson/__init__.py)",
     "output_type": "error",
     "traceback": [
      "\u001b[0;31m---------------------------------------------------------------------------\u001b[0m",
      "\u001b[0;31mImportError\u001b[0m                               Traceback (most recent call last)",
      "Cell \u001b[0;32mIn[157], line 1\u001b[0m\n\u001b[0;32m----> 1\u001b[0m \u001b[38;5;28;01mfrom\u001b[39;00m \u001b[38;5;21;01mpytezos\u001b[39;00m\u001b[38;5;21;01m.\u001b[39;00m\u001b[38;5;21;01mmichelson\u001b[39;00m \u001b[38;5;28;01mimport\u001b[39;00m MichelsonRuntime\n",
      "\u001b[0;31mImportError\u001b[0m: cannot import name 'MichelsonRuntime' from 'pytezos.michelson' (/usr/local/lib/python3.10/dist-packages/pytezos/michelson/__init__.py)"
     ]
    }
   ],
   "source": [
    "from pytezos import michelson\n",
    "\n",
    "# Example Michelson code as a string\n",
    "michelson_code = \"\"\"\n",
    "parameter string;\n",
    "storage string;\n",
    "code { DUP; DIP { CAR ; NIL string ; SWAP ; CONS } ; CDR ; CONS ; CONCAT ; NIL operation; PAIR }\n",
    "\"\"\"\n",
    "\n",
    "# Parse Michelson code\n",
    "micheline = michelson.parse(michelson_code)\n",
    "\n",
    "# Encode Micheline to bytes\n",
    "encoded_bytes = michelson.pack(micheline)\n",
    "\n",
    "print(encoded_bytes)\n"
   ]
  },
  {
   "cell_type": "code",
   "execution_count": 156,
   "metadata": {},
   "outputs": [],
   "source": [
    "from pytezos import michelson\n",
    "\n",
    "# Define the Michelson code for the lambda function\n",
    "michelson_code = '''\n",
    "(Pair \"my_custom_handler\" (lambda unit (list operation) {\n",
    "  DROP;\n",
    "  NIL operation;\n",
    "  PAIR;\n",
    "}))\n",
    "'''\n",
    "\n",
    "# Encode the Michelson code to bytes\n",
    "encoded_bytes = michelson.(michelson_code)\n",
    "hex_encoded_bytes = encoded_bytes.hex()\n",
    "\n",
    "print(hex_encoded_bytes)"
   ]
  },
  {
   "cell_type": "code",
   "execution_count": 155,
   "metadata": {},
   "outputs": [],
   "source": [
    "import importlib\n",
    "from python.tools.contract_interaction import ContractInteraction"
   ]
  },
  {
   "cell_type": "code",
   "execution_count": null,
   "metadata": {},
   "outputs": [],
   "source": []
  },
  {
   "cell_type": "code",
   "execution_count": 99,
   "metadata": {},
   "outputs": [
    {
     "data": {
      "text/plain": [
       "<function OperationGroup.message at 0x7fbaac137010>\n",
       "Get payload for the failing noop operation\n",
       "\n",
       ":param block: Specify operation branch (default is genesis)\n",
       ":returns: Message bytes"
      ]
     },
     "execution_count": 99,
     "metadata": {},
     "output_type": "execute_result"
    }
   ],
   "source": [
    "result"
   ]
  },
  {
   "cell_type": "code",
   "execution_count": 67,
   "metadata": {},
   "outputs": [
    {
     "data": {
      "text/plain": [
       "<pytezos.operation.group.OperationGroup object at 0x7fba8f725660>\n",
       "\n",
       "Properties\n",
       ".key\t\ttz1T5kk65F9oZw2z1YV4osfcrX7eD5KtLj3c\n",
       ".shell\t\t['https://ghostnet.ecadinfra.com']\n",
       ".block_id\thead\n",
       "\n",
       "Payload\n",
       "{'branch': 'BM8TXcSig7XYtRwbVKuhwSngFXtwgvXZSM4oQ9VWxtkxy1ekQXQ',\n",
       " 'contents': [{'amount': '0',\n",
       "               'counter': '10914431',\n",
       "               'destination': 'KT1VG3ynsnyxFGzw9mdBwYnyZAF8HZvqnNkw',\n",
       "               'fee': '353',\n",
       "               'gas_limit': '683',\n",
       "               'kind': 'transaction',\n",
       "               'parameters': {'entrypoint': 'registryCepDummy',\n",
       "                              'value': {'prim': 'Unit'}},\n",
       "               'source': 'tz1T5kk65F9oZw2z1YV4osfcrX7eD5KtLj3c',\n",
       "               'storage_limit': '100'}],\n",
       " 'protocol': 'PsParisCZo7KAh1Z1smVd9ZMZ1HHn5gkzbM94V3PLCpknFWhUAi',\n",
       " 'signature': 'sigsMJAfh2GKcQu9rSee2AivVktaQfeAQzAobE2rFTsKKn2CXmzkiLRcJ9WX4Z2627tY8frzb2VLzawvDnMXEtzW6rXa4yab'}\n",
       "\n",
       "Hash\n",
       "oogFfyJVk2yV9DgzhyF2PoKqv5iY9dbojyFcr6Wm5bAKP3ZA7F6\n",
       ".activate_account()\n",
       ".autofill()\n",
       ".ballot()\n",
       ".binary_payload()\n",
       ".delegation()\n",
       ".double_baking_evidence()\n",
       ".double_endorsement_evidence()\n",
       ".endorsement()\n",
       ".endorsement_with_slot()\n",
       ".failing_noop()\n",
       ".fill()\n",
       ".forge()\n",
       ".hash()\n",
       ".inject()\n",
       ".json_payload()\n",
       ".message()\n",
       ".operation()\n",
       ".origination()\n",
       ".preapply()\n",
       ".proposals()\n",
       ".register_global_constant()\n",
       ".result()\n",
       ".reveal()\n",
       ".run()\n",
       ".run_operation()\n",
       ".seed_nonce_revelation()\n",
       ".send()\n",
       ".send_async()\n",
       ".sign()\n",
       ".smart_rollup_add_messages()\n",
       ".smart_rollup_execute_outbox_message()\n",
       ".transaction()\n",
       ".transfer_ticket()"
      ]
     },
     "execution_count": 67,
     "metadata": {},
     "output_type": "execute_result"
    }
   ],
   "source": [
    "result"
   ]
  }
 ],
 "metadata": {
  "kernelspec": {
   "display_name": "Python 3",
   "language": "python",
   "name": "python3"
  },
  "language_info": {
   "codemirror_mode": {
    "name": "ipython",
    "version": 3
   },
   "file_extension": ".py",
   "mimetype": "text/x-python",
   "name": "python",
   "nbconvert_exporter": "python",
   "pygments_lexer": "ipython3",
   "version": "3.10.12"
  }
 },
 "nbformat": 4,
 "nbformat_minor": 2
}
