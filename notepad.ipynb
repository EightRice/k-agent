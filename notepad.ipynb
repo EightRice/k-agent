{
 "cells": [
  {
   "cell_type": "code",
   "execution_count": 6,
   "metadata": {},
   "outputs": [
    {
     "name": "stdout",
     "output_type": "stream",
     "text": [
      "None\n"
     ]
    }
   ],
   "source": [
    "import os\n",
    "a=os.getenv('tezos_wallet_1')\n",
    "print(a)"
   ]
  },
  {
   "cell_type": "code",
   "execution_count": 28,
   "metadata": {},
   "outputs": [],
   "source": [
    "lambda_code='''(lambda %new_handler (unit) : unit\n",
    "  {\n",
    "    DROP;\n",
    "    NIL operation;\n",
    "    PAIR;\n",
    "  })'''\n"
   ]
  },
  {
   "cell_type": "code",
   "execution_count": 185,
   "metadata": {},
   "outputs": [],
   "source": [
    "from pytezos import pytezos\n",
    "from dotenv import dotenv_values\n",
    "# Load the .env file\n",
    "env_vars = dotenv_values(\".env\")\n",
    "private_key=env_vars.get(\"TEZOS_WALLET_1\")\n",
    "pytezos = pytezos.using(key=private_key, shell='https://ghostnet.ecadinfra.com')\n",
    "# Define the contract address\n",
    "contract_address = 'KT1VG3ynsnyxFGzw9mdBwYnyZAF8HZvqnNkw'\n",
    "public_key=\"tz1T5kk65F9oZw2z1YV4osfcrX7eD5KtLj3c\"\n",
    "# Load the contract\n",
    "contract = pytezos.contract(contract_address)\n",
    "result = contract.registryCepDummy().send(min_confirmations=1)"
   ]
  },
  {
   "cell_type": "code",
   "execution_count": null,
   "metadata": {},
   "outputs": [],
   "source": [
    "from dotenv import dotenv_values\n",
    "# Configuration\n",
    "DEFAULT_TEMPERATURE = 0.0\n",
    "env_vars = dotenv_values(\".env\")\n",
    "openai_key=env_vars.get(\"API_KEY_OPENAI\")"
   ]
  },
  {
   "cell_type": "code",
   "execution_count": 59,
   "metadata": {},
   "outputs": [
    {
     "data": {
      "text/plain": [
       "bytes"
      ]
     },
     "execution_count": 59,
     "metadata": {},
     "output_type": "execute_result"
    }
   ],
   "source": [
    "last_metadata=bytes(\"\", \"utf-8\")\n",
    "type(last_metadata)"
   ]
  },
  {
   "cell_type": "code",
   "execution_count": 69,
   "metadata": {},
   "outputs": [],
   "source": [
    "from pytezos import pytezos\n",
    "import json\n",
    "import binascii\n",
    "from dotenv import dotenv_values\n",
    "# Load the .env file\n",
    "env_vars = dotenv_values(\".env\")\n",
    "private_key=env_vars.get(\"TEZOS_WALLET_1\")\n",
    "rpc1=\"https://rpc.ghostnet.teztnets.com\"\n",
    "rpc2='https://ghostnet.ecadinfra.com'\n",
    "last_metadata=b\"\"\n",
    "from python.helpers.tool import Tool, Response\n",
    "last_metadata=bytes(\"\", \"utf-8\")\n",
    "last_rpc=rpc1\n",
    "class ContractInteraction():\n",
    "\n",
    "    def execute(self, proposal_metadata=b\"\", **kwargs):\n",
    "        global pytezos\n",
    "        global last_metadata\n",
    "        currentRPC=\"\"\n",
    "        if last_rpc==rpc1:\n",
    "            currentRPC=rpc2\n",
    "        else:\n",
    "            currentRPC=rpc1\n",
    "        pytezos = pytezos.using(key=private_key, shell=currentRPC)\n",
    "        # Define the contract address\n",
    "        contract_address = 'KT1VG3ynsnyxFGzw9mdBwYnyZAF8HZvqnNkw'\n",
    "        # Load the contract\n",
    "        contract = pytezos.contract(contract_address)\n",
    "        \n",
    "        if proposal_metadata==last_metadata:\n",
    "            return Response(message=\"Error: the metadata hasn't changed since last try.\", break_loop=False)\n",
    "        \n",
    "        print(\"last metadata \"+str(last_metadata))\n",
    "        print(\"curr metadata \"+str (proposal_metadata))\n",
    "        last_metadata=proposal_metadata\n",
    "        print(\"*** USING CONTRACT INTERACTION TOOL ***\")\n",
    "        public_key=\"tz1T5kk65F9oZw2z1YV4osfcrX7eD5KtLj3c\"\n",
    "        mers=False\n",
    "        something=None\n",
    "        global stuff\n",
    "        try:\n",
    "            result = contract.propose(public_key, 10000, bytes(proposal_metadata)).send(min_confirmations=1)\n",
    "            mers=True\n",
    "        except Exception as e:\n",
    "            print(\"exception: \",e)\n",
    "            something=e\n",
    "        if not mers:\n",
    "            return Response(message=str(something), break_loop=False)\n",
    "        else:\n",
    "            return Response(message=str(\"Transaction submitted.\"), break_loop=False)"
   ]
  },
  {
   "cell_type": "code",
   "execution_count": 61,
   "metadata": {},
   "outputs": [],
   "source": [
    "ctool=ContractInteraction()"
   ]
  },
  {
   "cell_type": "code",
   "execution_count": 70,
   "metadata": {},
   "outputs": [
    {
     "name": "stdout",
     "output_type": "stream",
     "text": [
      "last metadata b''\n",
      "curr metadata b'7b2268616e646c65725f6e616d65223a202268656c6c6f5f6e65772068616e646c6572222c2022636f6465223a2022707573682022737472696e6722202248656c6c6f2c20776f726c64212220273b204e494c20276f7065726174696f6e20273b2050414952227d'\n",
      "*** USING CONTRACT INTERACTION TOOL ***\n",
      "exception:  ({'id': 'proto.020-PsParisC.michelson_v1.script_rejected',\n",
      "  'kind': 'temporary',\n",
      "  'location': 294,\n",
      "  'with': {'int': '111'}},)\n"
     ]
    },
    {
     "data": {
      "text/plain": [
       "<python.helpers.tool.Response at 0x7f88f1d3bfd0>"
      ]
     },
     "execution_count": 70,
     "metadata": {},
     "output_type": "execute_result"
    }
   ],
   "source": [
    "ctool.execute(proposal_metadata=b\"7b2268616e646c65725f6e616d65223a202268656c6c6f5f6e65772068616e646c6572222c2022636f6465223a2022707573682022737472696e6722202248656c6c6f2c20776f726c64212220273b204e494c20276f7065726174696f6e20273b2050414952227d\")"
   ]
  },
  {
   "cell_type": "code",
   "execution_count": 93,
   "metadata": {},
   "outputs": [],
   "source": [
    "import json\n",
    "\n",
    "# Define the handler name, code, and handler check\n",
    "handler_name = \"hello_world_handler\"\n",
    "code = \"\"\"\n",
    "  { DROP ; PUSH string \"Hello, world!\" ; NIL operation ; PAIR }\n",
    "\"\"\"\n",
    "handler_check = \"\"\"\n",
    "  { DROP ; PUSH bool True }\n",
    "\"\"\"\n",
    "\n",
    "# Create the proposal_metadata dictionary\n",
    "proposal_metadata = {\n",
    "    \"handler_name\": handler_name,\n",
    "    \"code\": code,\n",
    "    \"handler_check\": handler_check\n",
    "}\n",
    "\n",
    "# Encode the metadata as JSON, then to UTF-8 bytes, and finally to a hex string\n",
    "encoded_metadata = json.dumps(proposal_metadata).encode('utf-8').hex() # parameter that goes into the contract_interaction call\n",
    "type(encoded_metadata)\n",
    "again= bytes(encoded_metadata, \"utf-8\")\n"
   ]
  },
  {
   "cell_type": "code",
   "execution_count": 79,
   "metadata": {},
   "outputs": [
    {
     "data": {
      "text/plain": [
       "bytes"
      ]
     },
     "execution_count": 79,
     "metadata": {},
     "output_type": "execute_result"
    }
   ],
   "source": [
    "type(again)"
   ]
  },
  {
   "cell_type": "code",
   "execution_count": 88,
   "metadata": {},
   "outputs": [
    {
     "name": "stdout",
     "output_type": "stream",
     "text": [
      "created contract\n"
     ]
    }
   ],
   "source": [
    "from pytezos import pytezos\n",
    "import json\n",
    "import binascii\n",
    "from dotenv import dotenv_values\n",
    "# Load the .env file\n",
    "rpc1=\"https://rpc.ghostnet.teztnets.com\"\n",
    "rpc2='https://ghostnet.ecadinfra.com'\n",
    "env_vars = dotenv_values(\".env\")\n",
    "private_key=env_vars.get(\"TEZOS_WALLET_1\")\n",
    "pytezos = pytezos.using(key=private_key, shell=rpc1)\n",
    "# Define the contract address\n",
    "contract_address = 'KT1VG3ynsnyxFGzw9mdBwYnyZAF8HZvqnNkw'\n",
    "# Load the contract\n",
    "contract = pytezos.contract(contract_address)\n",
    "print(\"created contract\")\n",
    "from python.helpers.tool import Tool, Response\n",
    "last_metadata=\"\"\n",
    "def call_contract(proposal_metadata=\"\", **kwargs):\n",
    "    global contract\n",
    "    global last_metadata\n",
    "    if proposal_metadata==last_metadata:\n",
    "        return Response(message=\"Error: the metadata hasn't changed since last try.\", break_loop=False)\n",
    "    print(\"new unique bytes string\")\n",
    "    last_metadata=proposal_metadata\n",
    "    print(\"*** USING CONTRACT INTERACTION TOOL ***\")\n",
    "    public_key=\"tz1T5kk65F9oZw2z1YV4osfcrX7eD5KtLj3c\"\n",
    "    mers=False\n",
    "    something=None\n",
    "    global stuff\n",
    "    try:\n",
    "        result = contract.propose(public_key, 10000,bytes(proposal_metadata, \"utf-8\")).send(min_confirmations=1)\n",
    "        mers=True\n",
    "    except Exception as e:\n",
    "        print(\"exception: \",e)\n",
    "        something=e\n",
    "    if not mers:\n",
    "        return something\n",
    "    else:\n",
    "        \"Transaction submitted.\""
   ]
  },
  {
   "cell_type": "code",
   "execution_count": 110,
   "metadata": {},
   "outputs": [],
   "source": [
    "import requests\n",
    "\n",
    "BASE_URL = \"http://127.0.0.1:5000\"\n",
    "\n",
    "def call_hello_endpoint(metadata):\n",
    "    response = requests.get(f\"{BASE_URL}/hello\", params={\"metadata\":metadata})\n",
    "    print(response.json())\n",
    "    return response\n"
   ]
  },
  {
   "cell_type": "code",
   "execution_count": 111,
   "metadata": {},
   "outputs": [
    {
     "name": "stdout",
     "output_type": "stream",
     "text": [
      "{'ERROR FROM CHAIN': \"({'id': 'proto.020-PsParisC.michelson_v1.script_rejected',\\n  'kind': 'temporary',\\n  'location': 294,\\n  'with': {'int': '111'}},)\"}\n",
      "<Response [200]>\n",
      "type <class 'requests.models.Response'>\n"
     ]
    }
   ],
   "source": [
    "response=call_hello_endpoint(\"7b1268616e646c65725f6e616d65223a202268656c6c6f5f776f726c645f68616e646c6572222c2022636f6465223a20227b20204452504f503b205055534820737472696e67202248656c6c6f2c20776f726c64212220203b20524e494c20206f7065726174696f6e20203b2050414952227d222c202268616e646c65725f636865636b223a20227b20204452504f503b20505553482062756c6c20547275657d227d\")\n",
    "print(response)\n",
    "print(\"type \"+str(type(response)))"
   ]
  },
  {
   "cell_type": "code",
   "execution_count": 126,
   "metadata": {},
   "outputs": [],
   "source": [
    "content = json.loads(response.content)"
   ]
  },
  {
   "cell_type": "code",
   "execution_count": 127,
   "metadata": {},
   "outputs": [
    {
     "data": {
      "text/plain": [
       "\"({'id': 'proto.020-PsParisC.michelson_v1.script_rejected',\\n  'kind': 'temporary',\\n  'location': 294,\\n  'with': {'int': '111'}},)\""
      ]
     },
     "execution_count": 127,
     "metadata": {},
     "output_type": "execute_result"
    }
   ],
   "source": [
    "content['ERROR FROM CHAIN']"
   ]
  },
  {
   "cell_type": "code",
   "execution_count": 95,
   "metadata": {},
   "outputs": [
    {
     "name": "stdout",
     "output_type": "stream",
     "text": [
      "new unique bytes string\n",
      "*** USING CONTRACT INTERACTION TOOL ***\n",
      "exception:  ({'id': 'proto.020-PsParisC.michelson_v1.script_rejected',\n",
      "  'kind': 'temporary',\n",
      "  'location': 294,\n",
      "  'with': {'int': '111'}},)\n"
     ]
    },
    {
     "data": {
      "text/plain": [
       "pytezos.rpc.errors.MichelsonError({'kind': 'temporary',\n",
       "                                   'id': 'proto.020-PsParisC.michelson_v1.script_rejected',\n",
       "                                   'location': 294,\n",
       "                                   'with': {'int': '111'}})"
      ]
     },
     "execution_count": 95,
     "metadata": {},
     "output_type": "execute_result"
    }
   ],
   "source": [
    "again= bytes(encoded_metadata, \"utf-8\")\n",
    "call_contract(proposal_metadata=\"a23fb2bfwebf2awv23va\")"
   ]
  },
  {
   "cell_type": "code",
   "execution_count": 49,
   "metadata": {},
   "outputs": [
    {
     "name": "stdout",
     "output_type": "stream",
     "text": [
      "7b2268616e646c65725f6e616d65223a202268656c6c6f5f776f726c645f68616e646c6572222c2022636f6465223a20225c6e20207b2044524f50203b205055534820737472696e67205c2248656c6c6f2c20776f726c64215c22203b204e494c206f7065726174696f6e203b2050414952207d5c6e222c202268616e646c65725f636865636b223a20225c6e20207b2044524f50203b205055534820626f6f6c2054727565207d5c6e227d\n"
     ]
    }
   ],
   "source": [
    "from work_dir import prepare_metadata"
   ]
  },
  {
   "cell_type": "code",
   "execution_count": 44,
   "metadata": {},
   "outputs": [
    {
     "name": "stdout",
     "output_type": "stream",
     "text": [
      "7b2268616e646c65725f6e616d65223a202268656c6c6f5f776f726c645f68616e646c6572222c2022636f6465223a20225c6e20207b2044524f50203b205055534820737472696e67205c2248656c6c6f2c20776f726c64215c22203b204e494c206f7065726174696f6e203b2050414952207d5c6e222c202268616e646c65725f636865636b223a20225c6e20207b2044524f50203b205055534820626f6f6c2054727565207d5c6e227d\n"
     ]
    }
   ],
   "source": [
    "import json\n",
    "#https://www.youtube.com/watch?v=KHUn6KuNVMM\n",
    "# Define the handler name, code, and handler check\n",
    "handler_name = \"hello_world_handler\"\n",
    "code = \"\"\"\n",
    "  { DROP ; PUSH string \"Hello, world!\" ; NIL operation ; PAIR }\n",
    "\"\"\"\n",
    "handler_check = \"\"\"\n",
    "  { DROP ; PUSH bool True }\n",
    "\"\"\"\n",
    "\n",
    "# Create the proposal_metadata dictionary\n",
    "proposal_metadata = {\n",
    "    \"handler_name\": handler_name,\n",
    "    \"code\": code,\n",
    "    \"handler_check\": handler_check\n",
    "}\n",
    "\n",
    "# Encode the metadata as JSON, then to UTF-8 bytes, and finally to a hex string\n",
    "encoded_metadata = json.dumps(proposal_metadata).encode('utf-8').hex()\n",
    "\n",
    "print(encoded_metadata)\n"
   ]
  },
  {
   "cell_type": "code",
   "execution_count": 42,
   "metadata": {},
   "outputs": [],
   "source": [
    "handler_name = \"hello_world_handler\"\n",
    "code = \"\"\"\n",
    "  { DROP ; PUSH string \"Hello, world!\" ; NIL operation ; PAIR }\n",
    "\"\"\"\n",
    "handler_check = \"\"\"\n",
    "  { DROP ; PUSH bool True }\n",
    "\"\"\"\n",
    "\n",
    "# Create the proposal_metadata dictionary\n",
    "geison = {\n",
    "    \"handler_name\": handler_name,\n",
    "    \"code\": code,\n",
    "    \"handler_check\": handler_check\n",
    "}"
   ]
  },
  {
   "cell_type": "code",
   "execution_count": 43,
   "metadata": {},
   "outputs": [
    {
     "data": {
      "text/plain": [
       "'7b2268616e646c65725f6e616d65223a202268656c6c6f5f776f726c645f68616e646c6572222c2022636f6465223a20225c6e20207b2044524f50203b205055534820737472696e67205c2248656c6c6f2c20776f726c64215c22203b204e494c206f7065726174696f6e203b2050414952207d5c6e222c202268616e646c65725f636865636b223a20225c6e20207b2044524f50203b205055534820626f6f6c2054727565207d5c6e227d'"
      ]
     },
     "execution_count": 43,
     "metadata": {},
     "output_type": "execute_result"
    }
   ],
   "source": [
    "import json\n",
    "data = {\"key\": \"value\"}\n",
    "proposal_metadata = json.dumps(geison).encode('utf-8').hex()\n",
    "proposal_metadata"
   ]
  },
  {
   "cell_type": "code",
   "execution_count": 194,
   "metadata": {},
   "outputs": [],
   "source": [
    "ceva={\n",
    "  \"prim\": \"Pair\",\n",
    "  \"args\": [\n",
    "    {\"string\": \"new_handler\"},\n",
    "    {\n",
    "      \"prim\": \"lambda\",\n",
    "      \"args\": [\n",
    "        {\"prim\": \"unit\"},\n",
    "        {\"prim\": \"list\", \"args\": [{\"prim\": \"operation\"}]},\n",
    "        [\n",
    "          {\"prim\": \"DROP\"},\n",
    "          {\"prim\": \"NIL\", \"args\": [{\"prim\": \"operation\"}]},\n",
    "          {\"prim\": \"PAIR\"}\n",
    "        ]\n",
    "      ]\n",
    "    }\n",
    "  ]\n",
    "}\n"
   ]
  },
  {
   "cell_type": "code",
   "execution_count": 3,
   "metadata": {},
   "outputs": [
    {
     "ename": "TypeError",
     "evalue": "'module' object is not callable",
     "output_type": "error",
     "traceback": [
      "\u001b[0;31m---------------------------------------------------------------------------\u001b[0m",
      "\u001b[0;31mTypeError\u001b[0m                                 Traceback (most recent call last)",
      "Cell \u001b[0;32mIn[3], line 3\u001b[0m\n\u001b[1;32m      1\u001b[0m \u001b[38;5;28;01mfrom\u001b[39;00m \u001b[38;5;21;01mpytezos\u001b[39;00m \u001b[38;5;28;01mimport\u001b[39;00m michelson\n\u001b[1;32m      2\u001b[0m code \u001b[38;5;241m=\u001b[39m \u001b[38;5;124m'\u001b[39m\u001b[38;5;124m(Pair \u001b[39m\u001b[38;5;124m\"\u001b[39m\u001b[38;5;124mnew_handler\u001b[39m\u001b[38;5;124m\"\u001b[39m\u001b[38;5;124m (lambda unit (list operation) \u001b[39m\u001b[38;5;124m{\u001b[39m\u001b[38;5;124m DROP; NIL operation; PAIR }))\u001b[39m\u001b[38;5;124m'\u001b[39m\n\u001b[0;32m----> 3\u001b[0m a\u001b[38;5;241m=\u001b[39m\u001b[43mmichelson\u001b[49m\u001b[38;5;241;43m.\u001b[39;49m\u001b[43mparse\u001b[49m\u001b[43m(\u001b[49m\u001b[43mcode\u001b[49m\u001b[43m)\u001b[49m\n",
      "\u001b[0;31mTypeError\u001b[0m: 'module' object is not callable"
     ]
    }
   ],
   "source": [
    "from pytezos import michelson\n",
    "code = '(Pair \"new_handler\" (lambda unit (list operation) { DROP; NIL operation; PAIR }))'\n",
    "a=michelson.parse(code)"
   ]
  },
  {
   "cell_type": "code",
   "execution_count": 7,
   "metadata": {},
   "outputs": [
    {
     "data": {
      "text/plain": [
       "'7b22706172616d65746572223a2022256e65775f68616e646c6572222c202273746f72616765223a20226f7065726174696f6e222c2022636f6465223a202250414952227d'"
      ]
     },
     "execution_count": 7,
     "metadata": {},
     "output_type": "execute_result"
    }
   ],
   "source": [
    "import json\n",
    "import binascii\n",
    "lambda_code='''(lambda %new_handler (unit) : unit\n",
    "  {\n",
    "    DROP;\n",
    "    NIL operation;\n",
    "    PAIR;\n",
    "  })'''\n",
    "# Example Michelson code\n",
    "michelson_code = lambda_code\n",
    "\n",
    "lines = lambda_code.strip().split(';')\n",
    "micheline = {'parameter': lines[0].split()[1], 'storage': lines[1].split()[1], 'code': lines[2].strip()}\n",
    "micheline_json = json.dumps(micheline)\n",
    "encoded_bytes = micheline_json.encode('utf-8')\n",
    "hex_string = binascii.hexlify(encoded_bytes).decode('utf-8')\n",
    "hex_string\n"
   ]
  },
  {
   "cell_type": "code",
   "execution_count": 15,
   "metadata": {},
   "outputs": [],
   "source": [
    "from pytezos import pytezos\n",
    "from dotenv import dotenv_values\n",
    "# Load the .env file\n",
    "env_vars = dotenv_values(\".env\")\n",
    "private_key=env_vars.get(\"TEZOS_WALLET_1\")\n",
    "pytezos = pytezos.using(key=private_key, shell='https://rpc.ghostnet.teztnets.com')\n",
    "# Define the contract address\n",
    "contract_address = 'KT1VG3ynsnyxFGzw9mdBwYnyZAF8HZvqnNkw' #DAO Thursday Bug Hunt\n",
    "# contract_address = 'KT1Je4UBengJdFq28TnecpsmiR73Au4bG9U6' #simple function contract\n",
    "# Load the contract\n",
    "contract = pytezos.contract(contract_address)"
   ]
  },
  {
   "cell_type": "code",
   "execution_count": 22,
   "metadata": {},
   "outputs": [
    {
     "ename": "KeyboardInterrupt",
     "evalue": "",
     "output_type": "error",
     "traceback": [
      "\u001b[0;31m---------------------------------------------------------------------------\u001b[0m",
      "\u001b[0;31mKeyboardInterrupt\u001b[0m                         Traceback (most recent call last)",
      "Cell \u001b[0;32mIn[22], line 16\u001b[0m\n\u001b[1;32m     14\u001b[0m     \u001b[38;5;28;01melse\u001b[39;00m:\n\u001b[1;32m     15\u001b[0m         \u001b[38;5;28;01mreturn\u001b[39;00m \u001b[38;5;124m\"\u001b[39m\u001b[38;5;124mTransaction submitted.\u001b[39m\u001b[38;5;124m\"\u001b[39m\n\u001b[0;32m---> 16\u001b[0m \u001b[43mcall_contract\u001b[49m\u001b[43m(\u001b[49m\u001b[43mproposal_metadata\u001b[49m\u001b[38;5;241;43m=\u001b[39;49m\u001b[43mhex_string\u001b[49m\u001b[43m)\u001b[49m\n",
      "Cell \u001b[0;32mIn[22], line 7\u001b[0m, in \u001b[0;36mcall_contract\u001b[0;34m(proposal_metadata)\u001b[0m\n\u001b[1;32m      5\u001b[0m \u001b[38;5;28;01mglobal\u001b[39;00m stuff\n\u001b[1;32m      6\u001b[0m \u001b[38;5;28;01mtry\u001b[39;00m:\n\u001b[0;32m----> 7\u001b[0m     result \u001b[38;5;241m=\u001b[39m \u001b[43mcontract\u001b[49m\u001b[38;5;241;43m.\u001b[39;49m\u001b[43mpropose\u001b[49m\u001b[43m(\u001b[49m\u001b[43mpublic_key\u001b[49m\u001b[43m,\u001b[49m\u001b[43m \u001b[49m\u001b[38;5;241;43m10000\u001b[39;49m\u001b[43m,\u001b[49m\u001b[43m \u001b[49m\u001b[43mproposal_metadata\u001b[49m\u001b[43m \u001b[49m\u001b[43m)\u001b[49m\u001b[38;5;241;43m.\u001b[39;49m\u001b[43msend\u001b[49m\u001b[43m(\u001b[49m\u001b[43mmin_confirmations\u001b[49m\u001b[38;5;241;43m=\u001b[39;49m\u001b[38;5;241;43m1\u001b[39;49m\u001b[43m)\u001b[49m\n\u001b[1;32m      8\u001b[0m     mers\u001b[38;5;241m=\u001b[39m\u001b[38;5;28;01mTrue\u001b[39;00m\n\u001b[1;32m      9\u001b[0m \u001b[38;5;28;01mexcept\u001b[39;00m \u001b[38;5;167;01mException\u001b[39;00m \u001b[38;5;28;01mas\u001b[39;00m e:\n",
      "File \u001b[0;32m/usr/local/lib/python3.10/dist-packages/pytezos/jupyter.py:90\u001b[0m, in \u001b[0;36minline_doc.<locals>.CustomReprDescriptor.__get__.<locals>.MethodWrapper.__call__\u001b[0;34m(self, *args, **kwargs)\u001b[0m\n\u001b[1;32m     88\u001b[0m     \u001b[38;5;28;01mreturn\u001b[39;00m method(\u001b[38;5;241m*\u001b[39margs, \u001b[38;5;241m*\u001b[39m\u001b[38;5;241m*\u001b[39mkwargs)\n\u001b[1;32m     89\u001b[0m \u001b[38;5;28;01melse\u001b[39;00m:\n\u001b[0;32m---> 90\u001b[0m     \u001b[38;5;28;01mreturn\u001b[39;00m \u001b[43mmethod\u001b[49m\u001b[43m(\u001b[49m\u001b[38;5;28;43mself\u001b[39;49m\u001b[38;5;241;43m.\u001b[39;49m\u001b[43mobj\u001b[49m\u001b[43m,\u001b[49m\u001b[43m \u001b[49m\u001b[38;5;241;43m*\u001b[39;49m\u001b[43margs\u001b[49m\u001b[43m,\u001b[49m\u001b[43m \u001b[49m\u001b[38;5;241;43m*\u001b[39;49m\u001b[38;5;241;43m*\u001b[39;49m\u001b[43mkwargs\u001b[49m\u001b[43m)\u001b[49m\n",
      "File \u001b[0;32m/usr/local/lib/python3.10/dist-packages/pytezos/contract/call.py:89\u001b[0m, in \u001b[0;36mContractCall.send\u001b[0;34m(self, gas_reserve, burn_reserve, min_confirmations, ttl)\u001b[0m\n\u001b[1;32m     74\u001b[0m \u001b[38;5;28;01mdef\u001b[39;00m \u001b[38;5;21msend\u001b[39m(\n\u001b[1;32m     75\u001b[0m     \u001b[38;5;28mself\u001b[39m,\n\u001b[1;32m     76\u001b[0m     gas_reserve: \u001b[38;5;28mint\u001b[39m \u001b[38;5;241m=\u001b[39m DEFAULT_GAS_RESERVE,\n\u001b[0;32m   (...)\u001b[0m\n\u001b[1;32m     79\u001b[0m     ttl: Optional[\u001b[38;5;28mint\u001b[39m] \u001b[38;5;241m=\u001b[39m \u001b[38;5;28;01mNone\u001b[39;00m,\n\u001b[1;32m     80\u001b[0m ) \u001b[38;5;241m-\u001b[39m\u001b[38;5;241m>\u001b[39m \u001b[38;5;124m'\u001b[39m\u001b[38;5;124mOperationGroup\u001b[39m\u001b[38;5;124m'\u001b[39m:\n\u001b[1;32m     81\u001b[0m \u001b[38;5;250m    \u001b[39m\u001b[38;5;124;03m\"\"\"Fill, sign, and broadcast the transaction\u001b[39;00m\n\u001b[1;32m     82\u001b[0m \n\u001b[1;32m     83\u001b[0m \u001b[38;5;124;03m    :param gas_reserve: Add a safe reserve for dynamically calculated gas limit (default is 100).\u001b[39;00m\n\u001b[0;32m   (...)\u001b[0m\n\u001b[1;32m     87\u001b[0m \u001b[38;5;124;03m    :return: OperationGroup with hash filled\u001b[39;00m\n\u001b[1;32m     88\u001b[0m \u001b[38;5;124;03m    \"\"\"\u001b[39;00m\n\u001b[0;32m---> 89\u001b[0m     \u001b[38;5;28;01mreturn\u001b[39;00m \u001b[38;5;28;43mself\u001b[39;49m\u001b[38;5;241;43m.\u001b[39;49m\u001b[43mas_transaction\u001b[49m\u001b[43m(\u001b[49m\u001b[43m)\u001b[49m\u001b[38;5;241;43m.\u001b[39;49m\u001b[43msend\u001b[49m\u001b[43m(\u001b[49m\n\u001b[1;32m     90\u001b[0m \u001b[43m        \u001b[49m\u001b[43mgas_reserve\u001b[49m\u001b[38;5;241;43m=\u001b[39;49m\u001b[43mgas_reserve\u001b[49m\u001b[43m,\u001b[49m\n\u001b[1;32m     91\u001b[0m \u001b[43m        \u001b[49m\u001b[43mburn_reserve\u001b[49m\u001b[38;5;241;43m=\u001b[39;49m\u001b[43mburn_reserve\u001b[49m\u001b[43m,\u001b[49m\n\u001b[1;32m     92\u001b[0m \u001b[43m        \u001b[49m\u001b[43mmin_confirmations\u001b[49m\u001b[38;5;241;43m=\u001b[39;49m\u001b[43mmin_confirmations\u001b[49m\u001b[43m,\u001b[49m\n\u001b[1;32m     93\u001b[0m \u001b[43m        \u001b[49m\u001b[43mttl\u001b[49m\u001b[38;5;241;43m=\u001b[39;49m\u001b[43mttl\u001b[49m\u001b[43m,\u001b[49m\n\u001b[1;32m     94\u001b[0m \u001b[43m    \u001b[49m\u001b[43m)\u001b[49m\n",
      "File \u001b[0;32m/usr/local/lib/python3.10/dist-packages/pytezos/jupyter.py:90\u001b[0m, in \u001b[0;36minline_doc.<locals>.CustomReprDescriptor.__get__.<locals>.MethodWrapper.__call__\u001b[0;34m(self, *args, **kwargs)\u001b[0m\n\u001b[1;32m     88\u001b[0m     \u001b[38;5;28;01mreturn\u001b[39;00m method(\u001b[38;5;241m*\u001b[39margs, \u001b[38;5;241m*\u001b[39m\u001b[38;5;241m*\u001b[39mkwargs)\n\u001b[1;32m     89\u001b[0m \u001b[38;5;28;01melse\u001b[39;00m:\n\u001b[0;32m---> 90\u001b[0m     \u001b[38;5;28;01mreturn\u001b[39;00m \u001b[43mmethod\u001b[49m\u001b[43m(\u001b[49m\u001b[38;5;28;43mself\u001b[39;49m\u001b[38;5;241;43m.\u001b[39;49m\u001b[43mobj\u001b[49m\u001b[43m,\u001b[49m\u001b[43m \u001b[49m\u001b[38;5;241;43m*\u001b[39;49m\u001b[43margs\u001b[49m\u001b[43m,\u001b[49m\u001b[43m \u001b[49m\u001b[38;5;241;43m*\u001b[39;49m\u001b[38;5;241;43m*\u001b[39;49m\u001b[43mkwargs\u001b[49m\u001b[43m)\u001b[49m\n",
      "File \u001b[0;32m/usr/local/lib/python3.10/dist-packages/pytezos/operation/group.py:376\u001b[0m, in \u001b[0;36mOperationGroup.send\u001b[0;34m(self, gas_reserve, burn_reserve, min_confirmations, ttl)\u001b[0m\n\u001b[1;32m    367\u001b[0m \u001b[38;5;250m\u001b[39m\u001b[38;5;124;03m\"\"\"\u001b[39;00m\n\u001b[1;32m    368\u001b[0m \n\u001b[1;32m    369\u001b[0m \u001b[38;5;124;03m:param gas_reserve: Add a safe reserve for dynamically calculated gas limit (default is 100).\u001b[39;00m\n\u001b[0;32m   (...)\u001b[0m\n\u001b[1;32m    373\u001b[0m \u001b[38;5;124;03m:return: OperationGroup with hash filled\u001b[39;00m\n\u001b[1;32m    374\u001b[0m \u001b[38;5;124;03m\"\"\"\u001b[39;00m\n\u001b[1;32m    375\u001b[0m \u001b[38;5;28;01mif\u001b[39;00m ttl \u001b[38;5;129;01mis\u001b[39;00m \u001b[38;5;28;01mNone\u001b[39;00m:\n\u001b[0;32m--> 376\u001b[0m     ttl \u001b[38;5;241m=\u001b[39m \u001b[38;5;28;43mself\u001b[39;49m\u001b[38;5;241;43m.\u001b[39;49m\u001b[43mcontext\u001b[49m\u001b[38;5;241;43m.\u001b[39;49m\u001b[43mget_operations_ttl\u001b[49m\u001b[43m(\u001b[49m\u001b[43m)\u001b[49m\n\u001b[1;32m    378\u001b[0m opg \u001b[38;5;241m=\u001b[39m \u001b[38;5;28mself\u001b[39m\u001b[38;5;241m.\u001b[39mautofill(gas_reserve\u001b[38;5;241m=\u001b[39mgas_reserve, burn_reserve\u001b[38;5;241m=\u001b[39mburn_reserve, ttl\u001b[38;5;241m=\u001b[39mttl)\u001b[38;5;241m.\u001b[39msign()\n\u001b[1;32m    379\u001b[0m res \u001b[38;5;241m=\u001b[39m opg\u001b[38;5;241m.\u001b[39minject(min_confirmations\u001b[38;5;241m=\u001b[39mmin_confirmations, num_blocks_wait\u001b[38;5;241m=\u001b[39mttl)\n",
      "File \u001b[0;32m/usr/local/lib/python3.10/dist-packages/pytezos/context/impl.py:468\u001b[0m, in \u001b[0;36mExecutionContext.get_operations_ttl\u001b[0;34m(self)\u001b[0m\n\u001b[1;32m    467\u001b[0m \u001b[38;5;28;01mdef\u001b[39;00m \u001b[38;5;21mget_operations_ttl\u001b[39m(\u001b[38;5;28mself\u001b[39m) \u001b[38;5;241m-\u001b[39m\u001b[38;5;241m>\u001b[39m \u001b[38;5;28mint\u001b[39m:\n\u001b[0;32m--> 468\u001b[0m     \u001b[38;5;28;01mif\u001b[39;00m \u001b[38;5;28;43mself\u001b[39;49m\u001b[38;5;241;43m.\u001b[39;49m\u001b[43msandboxed\u001b[49m:\n\u001b[1;32m    469\u001b[0m         \u001b[38;5;28;01mreturn\u001b[39;00m MAX_OPERATIONS_TTL\n\u001b[1;32m    470\u001b[0m     \u001b[38;5;28;01mreturn\u001b[39;00m DEFAULT_OPERATIONS_TTL\n",
      "File \u001b[0;32m/usr/local/lib/python3.10/dist-packages/pytezos/context/impl.py:121\u001b[0m, in \u001b[0;36mExecutionContext.sandboxed\u001b[0;34m(self)\u001b[0m\n\u001b[1;32m    119\u001b[0m     \u001b[38;5;28;01mraise\u001b[39;00m \u001b[38;5;167;01mException\u001b[39;00m(\u001b[38;5;124m'\u001b[39m\u001b[38;5;124m`shell` is not set\u001b[39m\u001b[38;5;124m'\u001b[39m)\n\u001b[1;32m    120\u001b[0m \u001b[38;5;28;01mif\u001b[39;00m \u001b[38;5;28mself\u001b[39m\u001b[38;5;241m.\u001b[39m_sandboxed \u001b[38;5;129;01mis\u001b[39;00m \u001b[38;5;28;01mNone\u001b[39;00m:\n\u001b[0;32m--> 121\u001b[0m     version \u001b[38;5;241m=\u001b[39m \u001b[38;5;28;43mself\u001b[39;49m\u001b[38;5;241;43m.\u001b[39;49m\u001b[43mshell\u001b[49m\u001b[38;5;241;43m.\u001b[39;49m\u001b[43mversion\u001b[49m\u001b[43m(\u001b[49m\u001b[43m)\u001b[49m\n\u001b[1;32m    122\u001b[0m     \u001b[38;5;28mself\u001b[39m\u001b[38;5;241m.\u001b[39m_sandboxed \u001b[38;5;241m=\u001b[39m \u001b[38;5;124m'\u001b[39m\u001b[38;5;124mSANDBOXED\u001b[39m\u001b[38;5;124m'\u001b[39m \u001b[38;5;129;01min\u001b[39;00m version[\u001b[38;5;124m'\u001b[39m\u001b[38;5;124mnetwork_version\u001b[39m\u001b[38;5;124m'\u001b[39m][\u001b[38;5;124m'\u001b[39m\u001b[38;5;124mchain_name\u001b[39m\u001b[38;5;124m'\u001b[39m]\n\u001b[1;32m    123\u001b[0m \u001b[38;5;28;01mreturn\u001b[39;00m \u001b[38;5;28mself\u001b[39m\u001b[38;5;241m.\u001b[39m_sandboxed\n",
      "File \u001b[0;32m/usr/local/lib/python3.10/dist-packages/pytezos/rpc/query.py:101\u001b[0m, in \u001b[0;36mRpcQuery.__call__\u001b[0;34m(self, **params)\u001b[0m\n\u001b[1;32m    100\u001b[0m \u001b[38;5;28;01mdef\u001b[39;00m \u001b[38;5;21m__call__\u001b[39m(\u001b[38;5;28mself\u001b[39m, \u001b[38;5;241m*\u001b[39m\u001b[38;5;241m*\u001b[39mparams):\n\u001b[0;32m--> 101\u001b[0m     \u001b[38;5;28;01mreturn\u001b[39;00m \u001b[38;5;28;43mself\u001b[39;49m\u001b[38;5;241;43m.\u001b[39;49m\u001b[43mnode\u001b[49m\u001b[38;5;241;43m.\u001b[39;49m\u001b[43mget\u001b[49m\u001b[43m(\u001b[49m\n\u001b[1;32m    102\u001b[0m \u001b[43m        \u001b[49m\u001b[43mpath\u001b[49m\u001b[38;5;241;43m=\u001b[39;49m\u001b[38;5;28;43mself\u001b[39;49m\u001b[38;5;241;43m.\u001b[39;49m\u001b[43mpath\u001b[49m\u001b[43m,\u001b[49m\n\u001b[1;32m    103\u001b[0m \u001b[43m        \u001b[49m\u001b[43mparams\u001b[49m\u001b[38;5;241;43m=\u001b[39;49m\u001b[43mparams\u001b[49m\u001b[43m,\u001b[49m\n\u001b[1;32m    104\u001b[0m \u001b[43m    \u001b[49m\u001b[43m)\u001b[49m\n",
      "File \u001b[0;32m/usr/local/lib/python3.10/dist-packages/pytezos/rpc/node.py:129\u001b[0m, in \u001b[0;36mRpcNode.get\u001b[0;34m(self, path, params, timeout)\u001b[0m\n\u001b[1;32m    123\u001b[0m \u001b[38;5;28;01mdef\u001b[39;00m \u001b[38;5;21mget\u001b[39m(\n\u001b[1;32m    124\u001b[0m     \u001b[38;5;28mself\u001b[39m,\n\u001b[1;32m    125\u001b[0m     path: \u001b[38;5;28mstr\u001b[39m,\n\u001b[1;32m    126\u001b[0m     params: Optional[Dict[\u001b[38;5;28mstr\u001b[39m, Any]] \u001b[38;5;241m=\u001b[39m \u001b[38;5;28;01mNone\u001b[39;00m,\n\u001b[1;32m    127\u001b[0m     timeout: Optional[\u001b[38;5;28mint\u001b[39m] \u001b[38;5;241m=\u001b[39m \u001b[38;5;28;01mNone\u001b[39;00m,\n\u001b[1;32m    128\u001b[0m ) \u001b[38;5;241m-\u001b[39m\u001b[38;5;241m>\u001b[39m requests\u001b[38;5;241m.\u001b[39mResponse:\n\u001b[0;32m--> 129\u001b[0m     \u001b[38;5;28;01mreturn\u001b[39;00m \u001b[38;5;28;43mself\u001b[39;49m\u001b[38;5;241;43m.\u001b[39;49m\u001b[43mrequest\u001b[49m\u001b[43m(\u001b[49m\n\u001b[1;32m    130\u001b[0m \u001b[43m        \u001b[49m\u001b[38;5;124;43m'\u001b[39;49m\u001b[38;5;124;43mGET\u001b[39;49m\u001b[38;5;124;43m'\u001b[39;49m\u001b[43m,\u001b[49m\n\u001b[1;32m    131\u001b[0m \u001b[43m        \u001b[49m\u001b[43mpath\u001b[49m\u001b[43m,\u001b[49m\n\u001b[1;32m    132\u001b[0m \u001b[43m        \u001b[49m\u001b[43mparams\u001b[49m\u001b[38;5;241;43m=\u001b[39;49m\u001b[43mparams\u001b[49m\u001b[43m,\u001b[49m\n\u001b[1;32m    133\u001b[0m \u001b[43m        \u001b[49m\u001b[43mtimeout\u001b[49m\u001b[38;5;241;43m=\u001b[39;49m\u001b[43mtimeout\u001b[49m\u001b[43m,\u001b[49m\n\u001b[1;32m    134\u001b[0m \u001b[43m    \u001b[49m\u001b[43m)\u001b[49m\u001b[38;5;241m.\u001b[39mjson()\n",
      "File \u001b[0;32m/usr/local/lib/python3.10/dist-packages/pytezos/rpc/node.py:103\u001b[0m, in \u001b[0;36mRpcNode.request\u001b[0;34m(self, method, path, **kwargs)\u001b[0m\n\u001b[1;32m     94\u001b[0m \u001b[38;5;250m\u001b[39m\u001b[38;5;124;03m\"\"\"Perform HTTP request to node.\u001b[39;00m\n\u001b[1;32m     95\u001b[0m \n\u001b[1;32m     96\u001b[0m \u001b[38;5;124;03m:param method: one of GET/POST/PUT/DELETE\u001b[39;00m\n\u001b[0;32m   (...)\u001b[0m\n\u001b[1;32m    100\u001b[0m \u001b[38;5;124;03m:returns: node response\u001b[39;00m\n\u001b[1;32m    101\u001b[0m \u001b[38;5;124;03m\"\"\"\u001b[39;00m\n\u001b[1;32m    102\u001b[0m logger\u001b[38;5;241m.\u001b[39mdebug(\u001b[38;5;124m'\u001b[39m\u001b[38;5;124m>>>>> \u001b[39m\u001b[38;5;132;01m%s\u001b[39;00m\u001b[38;5;124m \u001b[39m\u001b[38;5;132;01m%s\u001b[39;00m\u001b[38;5;130;01m\\n\u001b[39;00m\u001b[38;5;132;01m%s\u001b[39;00m\u001b[38;5;124m'\u001b[39m, method, path, json\u001b[38;5;241m.\u001b[39mdumps(kwargs, indent\u001b[38;5;241m=\u001b[39m\u001b[38;5;241m4\u001b[39m))\n\u001b[0;32m--> 103\u001b[0m res \u001b[38;5;241m=\u001b[39m \u001b[43mrequests\u001b[49m\u001b[38;5;241;43m.\u001b[39;49m\u001b[43mrequest\u001b[49m\u001b[43m(\u001b[49m\n\u001b[1;32m    104\u001b[0m \u001b[43m    \u001b[49m\u001b[43mmethod\u001b[49m\u001b[38;5;241;43m=\u001b[39;49m\u001b[43mmethod\u001b[49m\u001b[43m,\u001b[49m\n\u001b[1;32m    105\u001b[0m \u001b[43m    \u001b[49m\u001b[43murl\u001b[49m\u001b[38;5;241;43m=\u001b[39;49m\u001b[43m_urljoin\u001b[49m\u001b[43m(\u001b[49m\u001b[38;5;28;43mself\u001b[39;49m\u001b[38;5;241;43m.\u001b[39;49m\u001b[43muri\u001b[49m\u001b[43m[\u001b[49m\u001b[38;5;241;43m0\u001b[39;49m\u001b[43m]\u001b[49m\u001b[43m,\u001b[49m\u001b[43m \u001b[49m\u001b[43mpath\u001b[49m\u001b[43m)\u001b[49m\u001b[43m,\u001b[49m\n\u001b[1;32m    106\u001b[0m \u001b[43m    \u001b[49m\u001b[43mheaders\u001b[49m\u001b[38;5;241;43m=\u001b[39;49m\u001b[43m{\u001b[49m\u001b[38;5;124;43m'\u001b[39;49m\u001b[38;5;124;43mcontent-type\u001b[39;49m\u001b[38;5;124;43m'\u001b[39;49m\u001b[43m:\u001b[49m\u001b[43m \u001b[49m\u001b[38;5;124;43m'\u001b[39;49m\u001b[38;5;124;43mapplication/json\u001b[39;49m\u001b[38;5;124;43m'\u001b[39;49m\u001b[43m,\u001b[49m\u001b[43m \u001b[49m\u001b[38;5;124;43m'\u001b[39;49m\u001b[38;5;124;43muser-agent\u001b[39;49m\u001b[38;5;124;43m'\u001b[39;49m\u001b[43m:\u001b[49m\u001b[43m \u001b[49m\u001b[38;5;124;43m'\u001b[39;49m\u001b[38;5;124;43mPyTezos\u001b[39;49m\u001b[38;5;124;43m'\u001b[39;49m\u001b[43m,\u001b[49m\u001b[43m \u001b[49m\u001b[38;5;241;43m*\u001b[39;49m\u001b[38;5;241;43m*\u001b[39;49m\u001b[38;5;28;43mself\u001b[39;49m\u001b[38;5;241;43m.\u001b[39;49m\u001b[43mheaders\u001b[49m\u001b[43m}\u001b[49m\u001b[43m,\u001b[49m\n\u001b[1;32m    107\u001b[0m \u001b[43m    \u001b[49m\u001b[43mtimeout\u001b[49m\u001b[38;5;241;43m=\u001b[39;49m\u001b[43mkwargs\u001b[49m\u001b[38;5;241;43m.\u001b[39;49m\u001b[43mpop\u001b[49m\u001b[43m(\u001b[49m\u001b[38;5;124;43m'\u001b[39;49m\u001b[38;5;124;43mtimeout\u001b[39;49m\u001b[38;5;124;43m'\u001b[39;49m\u001b[43m,\u001b[49m\u001b[43m \u001b[49m\u001b[38;5;28;43;01mNone\u001b[39;49;00m\u001b[43m)\u001b[49m\u001b[43m \u001b[49m\u001b[38;5;129;43;01mor\u001b[39;49;00m\u001b[43m \u001b[49m\u001b[38;5;241;43m60\u001b[39;49m\u001b[43m,\u001b[49m\n\u001b[1;32m    108\u001b[0m \u001b[43m    \u001b[49m\u001b[38;5;241;43m*\u001b[39;49m\u001b[38;5;241;43m*\u001b[39;49m\u001b[43mkwargs\u001b[49m\u001b[43m,\u001b[49m\n\u001b[1;32m    109\u001b[0m \u001b[43m\u001b[49m\u001b[43m)\u001b[49m\n\u001b[1;32m    110\u001b[0m \u001b[38;5;28;01mif\u001b[39;00m res\u001b[38;5;241m.\u001b[39mstatus_code \u001b[38;5;241m==\u001b[39m \u001b[38;5;241m401\u001b[39m:\n\u001b[1;32m    111\u001b[0m     logger\u001b[38;5;241m.\u001b[39mdebug(\u001b[38;5;124m'\u001b[39m\u001b[38;5;124m<<<<< \u001b[39m\u001b[38;5;132;01m%s\u001b[39;00m\u001b[38;5;130;01m\\n\u001b[39;00m\u001b[38;5;132;01m%s\u001b[39;00m\u001b[38;5;124m'\u001b[39m, res\u001b[38;5;241m.\u001b[39mstatus_code, res\u001b[38;5;241m.\u001b[39mtext)\n",
      "File \u001b[0;32m/usr/local/lib/python3.10/dist-packages/requests/api.py:59\u001b[0m, in \u001b[0;36mrequest\u001b[0;34m(method, url, **kwargs)\u001b[0m\n\u001b[1;32m     55\u001b[0m \u001b[38;5;66;03m# By using the 'with' statement we are sure the session is closed, thus we\u001b[39;00m\n\u001b[1;32m     56\u001b[0m \u001b[38;5;66;03m# avoid leaving sockets open which can trigger a ResourceWarning in some\u001b[39;00m\n\u001b[1;32m     57\u001b[0m \u001b[38;5;66;03m# cases, and look like a memory leak in others.\u001b[39;00m\n\u001b[1;32m     58\u001b[0m \u001b[38;5;28;01mwith\u001b[39;00m sessions\u001b[38;5;241m.\u001b[39mSession() \u001b[38;5;28;01mas\u001b[39;00m session:\n\u001b[0;32m---> 59\u001b[0m     \u001b[38;5;28;01mreturn\u001b[39;00m \u001b[43msession\u001b[49m\u001b[38;5;241;43m.\u001b[39;49m\u001b[43mrequest\u001b[49m\u001b[43m(\u001b[49m\u001b[43mmethod\u001b[49m\u001b[38;5;241;43m=\u001b[39;49m\u001b[43mmethod\u001b[49m\u001b[43m,\u001b[49m\u001b[43m \u001b[49m\u001b[43murl\u001b[49m\u001b[38;5;241;43m=\u001b[39;49m\u001b[43murl\u001b[49m\u001b[43m,\u001b[49m\u001b[43m \u001b[49m\u001b[38;5;241;43m*\u001b[39;49m\u001b[38;5;241;43m*\u001b[39;49m\u001b[43mkwargs\u001b[49m\u001b[43m)\u001b[49m\n",
      "File \u001b[0;32m/usr/local/lib/python3.10/dist-packages/requests/sessions.py:589\u001b[0m, in \u001b[0;36mSession.request\u001b[0;34m(self, method, url, params, data, headers, cookies, files, auth, timeout, allow_redirects, proxies, hooks, stream, verify, cert, json)\u001b[0m\n\u001b[1;32m    584\u001b[0m send_kwargs \u001b[38;5;241m=\u001b[39m {\n\u001b[1;32m    585\u001b[0m     \u001b[38;5;124m\"\u001b[39m\u001b[38;5;124mtimeout\u001b[39m\u001b[38;5;124m\"\u001b[39m: timeout,\n\u001b[1;32m    586\u001b[0m     \u001b[38;5;124m\"\u001b[39m\u001b[38;5;124mallow_redirects\u001b[39m\u001b[38;5;124m\"\u001b[39m: allow_redirects,\n\u001b[1;32m    587\u001b[0m }\n\u001b[1;32m    588\u001b[0m send_kwargs\u001b[38;5;241m.\u001b[39mupdate(settings)\n\u001b[0;32m--> 589\u001b[0m resp \u001b[38;5;241m=\u001b[39m \u001b[38;5;28;43mself\u001b[39;49m\u001b[38;5;241;43m.\u001b[39;49m\u001b[43msend\u001b[49m\u001b[43m(\u001b[49m\u001b[43mprep\u001b[49m\u001b[43m,\u001b[49m\u001b[43m \u001b[49m\u001b[38;5;241;43m*\u001b[39;49m\u001b[38;5;241;43m*\u001b[39;49m\u001b[43msend_kwargs\u001b[49m\u001b[43m)\u001b[49m\n\u001b[1;32m    591\u001b[0m \u001b[38;5;28;01mreturn\u001b[39;00m resp\n",
      "File \u001b[0;32m/usr/local/lib/python3.10/dist-packages/requests/sessions.py:703\u001b[0m, in \u001b[0;36mSession.send\u001b[0;34m(self, request, **kwargs)\u001b[0m\n\u001b[1;32m    700\u001b[0m start \u001b[38;5;241m=\u001b[39m preferred_clock()\n\u001b[1;32m    702\u001b[0m \u001b[38;5;66;03m# Send the request\u001b[39;00m\n\u001b[0;32m--> 703\u001b[0m r \u001b[38;5;241m=\u001b[39m \u001b[43madapter\u001b[49m\u001b[38;5;241;43m.\u001b[39;49m\u001b[43msend\u001b[49m\u001b[43m(\u001b[49m\u001b[43mrequest\u001b[49m\u001b[43m,\u001b[49m\u001b[43m \u001b[49m\u001b[38;5;241;43m*\u001b[39;49m\u001b[38;5;241;43m*\u001b[39;49m\u001b[43mkwargs\u001b[49m\u001b[43m)\u001b[49m\n\u001b[1;32m    705\u001b[0m \u001b[38;5;66;03m# Total elapsed time of the request (approximately)\u001b[39;00m\n\u001b[1;32m    706\u001b[0m elapsed \u001b[38;5;241m=\u001b[39m preferred_clock() \u001b[38;5;241m-\u001b[39m start\n",
      "File \u001b[0;32m/usr/local/lib/python3.10/dist-packages/requests/adapters.py:667\u001b[0m, in \u001b[0;36mHTTPAdapter.send\u001b[0;34m(self, request, stream, timeout, verify, cert, proxies)\u001b[0m\n\u001b[1;32m    664\u001b[0m     timeout \u001b[38;5;241m=\u001b[39m TimeoutSauce(connect\u001b[38;5;241m=\u001b[39mtimeout, read\u001b[38;5;241m=\u001b[39mtimeout)\n\u001b[1;32m    666\u001b[0m \u001b[38;5;28;01mtry\u001b[39;00m:\n\u001b[0;32m--> 667\u001b[0m     resp \u001b[38;5;241m=\u001b[39m \u001b[43mconn\u001b[49m\u001b[38;5;241;43m.\u001b[39;49m\u001b[43murlopen\u001b[49m\u001b[43m(\u001b[49m\n\u001b[1;32m    668\u001b[0m \u001b[43m        \u001b[49m\u001b[43mmethod\u001b[49m\u001b[38;5;241;43m=\u001b[39;49m\u001b[43mrequest\u001b[49m\u001b[38;5;241;43m.\u001b[39;49m\u001b[43mmethod\u001b[49m\u001b[43m,\u001b[49m\n\u001b[1;32m    669\u001b[0m \u001b[43m        \u001b[49m\u001b[43murl\u001b[49m\u001b[38;5;241;43m=\u001b[39;49m\u001b[43murl\u001b[49m\u001b[43m,\u001b[49m\n\u001b[1;32m    670\u001b[0m \u001b[43m        \u001b[49m\u001b[43mbody\u001b[49m\u001b[38;5;241;43m=\u001b[39;49m\u001b[43mrequest\u001b[49m\u001b[38;5;241;43m.\u001b[39;49m\u001b[43mbody\u001b[49m\u001b[43m,\u001b[49m\n\u001b[1;32m    671\u001b[0m \u001b[43m        \u001b[49m\u001b[43mheaders\u001b[49m\u001b[38;5;241;43m=\u001b[39;49m\u001b[43mrequest\u001b[49m\u001b[38;5;241;43m.\u001b[39;49m\u001b[43mheaders\u001b[49m\u001b[43m,\u001b[49m\n\u001b[1;32m    672\u001b[0m \u001b[43m        \u001b[49m\u001b[43mredirect\u001b[49m\u001b[38;5;241;43m=\u001b[39;49m\u001b[38;5;28;43;01mFalse\u001b[39;49;00m\u001b[43m,\u001b[49m\n\u001b[1;32m    673\u001b[0m \u001b[43m        \u001b[49m\u001b[43massert_same_host\u001b[49m\u001b[38;5;241;43m=\u001b[39;49m\u001b[38;5;28;43;01mFalse\u001b[39;49;00m\u001b[43m,\u001b[49m\n\u001b[1;32m    674\u001b[0m \u001b[43m        \u001b[49m\u001b[43mpreload_content\u001b[49m\u001b[38;5;241;43m=\u001b[39;49m\u001b[38;5;28;43;01mFalse\u001b[39;49;00m\u001b[43m,\u001b[49m\n\u001b[1;32m    675\u001b[0m \u001b[43m        \u001b[49m\u001b[43mdecode_content\u001b[49m\u001b[38;5;241;43m=\u001b[39;49m\u001b[38;5;28;43;01mFalse\u001b[39;49;00m\u001b[43m,\u001b[49m\n\u001b[1;32m    676\u001b[0m \u001b[43m        \u001b[49m\u001b[43mretries\u001b[49m\u001b[38;5;241;43m=\u001b[39;49m\u001b[38;5;28;43mself\u001b[39;49m\u001b[38;5;241;43m.\u001b[39;49m\u001b[43mmax_retries\u001b[49m\u001b[43m,\u001b[49m\n\u001b[1;32m    677\u001b[0m \u001b[43m        \u001b[49m\u001b[43mtimeout\u001b[49m\u001b[38;5;241;43m=\u001b[39;49m\u001b[43mtimeout\u001b[49m\u001b[43m,\u001b[49m\n\u001b[1;32m    678\u001b[0m \u001b[43m        \u001b[49m\u001b[43mchunked\u001b[49m\u001b[38;5;241;43m=\u001b[39;49m\u001b[43mchunked\u001b[49m\u001b[43m,\u001b[49m\n\u001b[1;32m    679\u001b[0m \u001b[43m    \u001b[49m\u001b[43m)\u001b[49m\n\u001b[1;32m    681\u001b[0m \u001b[38;5;28;01mexcept\u001b[39;00m (ProtocolError, \u001b[38;5;167;01mOSError\u001b[39;00m) \u001b[38;5;28;01mas\u001b[39;00m err:\n\u001b[1;32m    682\u001b[0m     \u001b[38;5;28;01mraise\u001b[39;00m \u001b[38;5;167;01mConnectionError\u001b[39;00m(err, request\u001b[38;5;241m=\u001b[39mrequest)\n",
      "File \u001b[0;32m/usr/local/lib/python3.10/dist-packages/urllib3/connectionpool.py:789\u001b[0m, in \u001b[0;36mHTTPConnectionPool.urlopen\u001b[0;34m(self, method, url, body, headers, retries, redirect, assert_same_host, timeout, pool_timeout, release_conn, chunked, body_pos, preload_content, decode_content, **response_kw)\u001b[0m\n\u001b[1;32m    786\u001b[0m response_conn \u001b[38;5;241m=\u001b[39m conn \u001b[38;5;28;01mif\u001b[39;00m \u001b[38;5;129;01mnot\u001b[39;00m release_conn \u001b[38;5;28;01melse\u001b[39;00m \u001b[38;5;28;01mNone\u001b[39;00m\n\u001b[1;32m    788\u001b[0m \u001b[38;5;66;03m# Make the request on the HTTPConnection object\u001b[39;00m\n\u001b[0;32m--> 789\u001b[0m response \u001b[38;5;241m=\u001b[39m \u001b[38;5;28;43mself\u001b[39;49m\u001b[38;5;241;43m.\u001b[39;49m\u001b[43m_make_request\u001b[49m\u001b[43m(\u001b[49m\n\u001b[1;32m    790\u001b[0m \u001b[43m    \u001b[49m\u001b[43mconn\u001b[49m\u001b[43m,\u001b[49m\n\u001b[1;32m    791\u001b[0m \u001b[43m    \u001b[49m\u001b[43mmethod\u001b[49m\u001b[43m,\u001b[49m\n\u001b[1;32m    792\u001b[0m \u001b[43m    \u001b[49m\u001b[43murl\u001b[49m\u001b[43m,\u001b[49m\n\u001b[1;32m    793\u001b[0m \u001b[43m    \u001b[49m\u001b[43mtimeout\u001b[49m\u001b[38;5;241;43m=\u001b[39;49m\u001b[43mtimeout_obj\u001b[49m\u001b[43m,\u001b[49m\n\u001b[1;32m    794\u001b[0m \u001b[43m    \u001b[49m\u001b[43mbody\u001b[49m\u001b[38;5;241;43m=\u001b[39;49m\u001b[43mbody\u001b[49m\u001b[43m,\u001b[49m\n\u001b[1;32m    795\u001b[0m \u001b[43m    \u001b[49m\u001b[43mheaders\u001b[49m\u001b[38;5;241;43m=\u001b[39;49m\u001b[43mheaders\u001b[49m\u001b[43m,\u001b[49m\n\u001b[1;32m    796\u001b[0m \u001b[43m    \u001b[49m\u001b[43mchunked\u001b[49m\u001b[38;5;241;43m=\u001b[39;49m\u001b[43mchunked\u001b[49m\u001b[43m,\u001b[49m\n\u001b[1;32m    797\u001b[0m \u001b[43m    \u001b[49m\u001b[43mretries\u001b[49m\u001b[38;5;241;43m=\u001b[39;49m\u001b[43mretries\u001b[49m\u001b[43m,\u001b[49m\n\u001b[1;32m    798\u001b[0m \u001b[43m    \u001b[49m\u001b[43mresponse_conn\u001b[49m\u001b[38;5;241;43m=\u001b[39;49m\u001b[43mresponse_conn\u001b[49m\u001b[43m,\u001b[49m\n\u001b[1;32m    799\u001b[0m \u001b[43m    \u001b[49m\u001b[43mpreload_content\u001b[49m\u001b[38;5;241;43m=\u001b[39;49m\u001b[43mpreload_content\u001b[49m\u001b[43m,\u001b[49m\n\u001b[1;32m    800\u001b[0m \u001b[43m    \u001b[49m\u001b[43mdecode_content\u001b[49m\u001b[38;5;241;43m=\u001b[39;49m\u001b[43mdecode_content\u001b[49m\u001b[43m,\u001b[49m\n\u001b[1;32m    801\u001b[0m \u001b[43m    \u001b[49m\u001b[38;5;241;43m*\u001b[39;49m\u001b[38;5;241;43m*\u001b[39;49m\u001b[43mresponse_kw\u001b[49m\u001b[43m,\u001b[49m\n\u001b[1;32m    802\u001b[0m \u001b[43m\u001b[49m\u001b[43m)\u001b[49m\n\u001b[1;32m    804\u001b[0m \u001b[38;5;66;03m# Everything went great!\u001b[39;00m\n\u001b[1;32m    805\u001b[0m clean_exit \u001b[38;5;241m=\u001b[39m \u001b[38;5;28;01mTrue\u001b[39;00m\n",
      "File \u001b[0;32m/usr/local/lib/python3.10/dist-packages/urllib3/connectionpool.py:536\u001b[0m, in \u001b[0;36mHTTPConnectionPool._make_request\u001b[0;34m(self, conn, method, url, body, headers, retries, timeout, chunked, response_conn, preload_content, decode_content, enforce_content_length)\u001b[0m\n\u001b[1;32m    534\u001b[0m \u001b[38;5;66;03m# Receive the response from the server\u001b[39;00m\n\u001b[1;32m    535\u001b[0m \u001b[38;5;28;01mtry\u001b[39;00m:\n\u001b[0;32m--> 536\u001b[0m     response \u001b[38;5;241m=\u001b[39m \u001b[43mconn\u001b[49m\u001b[38;5;241;43m.\u001b[39;49m\u001b[43mgetresponse\u001b[49m\u001b[43m(\u001b[49m\u001b[43m)\u001b[49m\n\u001b[1;32m    537\u001b[0m \u001b[38;5;28;01mexcept\u001b[39;00m (BaseSSLError, \u001b[38;5;167;01mOSError\u001b[39;00m) \u001b[38;5;28;01mas\u001b[39;00m e:\n\u001b[1;32m    538\u001b[0m     \u001b[38;5;28mself\u001b[39m\u001b[38;5;241m.\u001b[39m_raise_timeout(err\u001b[38;5;241m=\u001b[39me, url\u001b[38;5;241m=\u001b[39murl, timeout_value\u001b[38;5;241m=\u001b[39mread_timeout)\n",
      "File \u001b[0;32m/usr/local/lib/python3.10/dist-packages/urllib3/connection.py:464\u001b[0m, in \u001b[0;36mHTTPConnection.getresponse\u001b[0;34m(self)\u001b[0m\n\u001b[1;32m    461\u001b[0m \u001b[38;5;28;01mfrom\u001b[39;00m \u001b[38;5;21;01m.\u001b[39;00m\u001b[38;5;21;01mresponse\u001b[39;00m \u001b[38;5;28;01mimport\u001b[39;00m HTTPResponse\n\u001b[1;32m    463\u001b[0m \u001b[38;5;66;03m# Get the response from http.client.HTTPConnection\u001b[39;00m\n\u001b[0;32m--> 464\u001b[0m httplib_response \u001b[38;5;241m=\u001b[39m \u001b[38;5;28;43msuper\u001b[39;49m\u001b[43m(\u001b[49m\u001b[43m)\u001b[49m\u001b[38;5;241;43m.\u001b[39;49m\u001b[43mgetresponse\u001b[49m\u001b[43m(\u001b[49m\u001b[43m)\u001b[49m\n\u001b[1;32m    466\u001b[0m \u001b[38;5;28;01mtry\u001b[39;00m:\n\u001b[1;32m    467\u001b[0m     assert_header_parsing(httplib_response\u001b[38;5;241m.\u001b[39mmsg)\n",
      "File \u001b[0;32m/usr/lib/python3.10/http/client.py:1375\u001b[0m, in \u001b[0;36mHTTPConnection.getresponse\u001b[0;34m(self)\u001b[0m\n\u001b[1;32m   1373\u001b[0m \u001b[38;5;28;01mtry\u001b[39;00m:\n\u001b[1;32m   1374\u001b[0m     \u001b[38;5;28;01mtry\u001b[39;00m:\n\u001b[0;32m-> 1375\u001b[0m         \u001b[43mresponse\u001b[49m\u001b[38;5;241;43m.\u001b[39;49m\u001b[43mbegin\u001b[49m\u001b[43m(\u001b[49m\u001b[43m)\u001b[49m\n\u001b[1;32m   1376\u001b[0m     \u001b[38;5;28;01mexcept\u001b[39;00m \u001b[38;5;167;01mConnectionError\u001b[39;00m:\n\u001b[1;32m   1377\u001b[0m         \u001b[38;5;28mself\u001b[39m\u001b[38;5;241m.\u001b[39mclose()\n",
      "File \u001b[0;32m/usr/lib/python3.10/http/client.py:318\u001b[0m, in \u001b[0;36mHTTPResponse.begin\u001b[0;34m(self)\u001b[0m\n\u001b[1;32m    316\u001b[0m \u001b[38;5;66;03m# read until we get a non-100 response\u001b[39;00m\n\u001b[1;32m    317\u001b[0m \u001b[38;5;28;01mwhile\u001b[39;00m \u001b[38;5;28;01mTrue\u001b[39;00m:\n\u001b[0;32m--> 318\u001b[0m     version, status, reason \u001b[38;5;241m=\u001b[39m \u001b[38;5;28;43mself\u001b[39;49m\u001b[38;5;241;43m.\u001b[39;49m\u001b[43m_read_status\u001b[49m\u001b[43m(\u001b[49m\u001b[43m)\u001b[49m\n\u001b[1;32m    319\u001b[0m     \u001b[38;5;28;01mif\u001b[39;00m status \u001b[38;5;241m!=\u001b[39m CONTINUE:\n\u001b[1;32m    320\u001b[0m         \u001b[38;5;28;01mbreak\u001b[39;00m\n",
      "File \u001b[0;32m/usr/lib/python3.10/http/client.py:279\u001b[0m, in \u001b[0;36mHTTPResponse._read_status\u001b[0;34m(self)\u001b[0m\n\u001b[1;32m    278\u001b[0m \u001b[38;5;28;01mdef\u001b[39;00m \u001b[38;5;21m_read_status\u001b[39m(\u001b[38;5;28mself\u001b[39m):\n\u001b[0;32m--> 279\u001b[0m     line \u001b[38;5;241m=\u001b[39m \u001b[38;5;28mstr\u001b[39m(\u001b[38;5;28;43mself\u001b[39;49m\u001b[38;5;241;43m.\u001b[39;49m\u001b[43mfp\u001b[49m\u001b[38;5;241;43m.\u001b[39;49m\u001b[43mreadline\u001b[49m\u001b[43m(\u001b[49m\u001b[43m_MAXLINE\u001b[49m\u001b[43m \u001b[49m\u001b[38;5;241;43m+\u001b[39;49m\u001b[43m \u001b[49m\u001b[38;5;241;43m1\u001b[39;49m\u001b[43m)\u001b[49m, \u001b[38;5;124m\"\u001b[39m\u001b[38;5;124miso-8859-1\u001b[39m\u001b[38;5;124m\"\u001b[39m)\n\u001b[1;32m    280\u001b[0m     \u001b[38;5;28;01mif\u001b[39;00m \u001b[38;5;28mlen\u001b[39m(line) \u001b[38;5;241m>\u001b[39m _MAXLINE:\n\u001b[1;32m    281\u001b[0m         \u001b[38;5;28;01mraise\u001b[39;00m LineTooLong(\u001b[38;5;124m\"\u001b[39m\u001b[38;5;124mstatus line\u001b[39m\u001b[38;5;124m\"\u001b[39m)\n",
      "File \u001b[0;32m/usr/lib/python3.10/socket.py:705\u001b[0m, in \u001b[0;36mSocketIO.readinto\u001b[0;34m(self, b)\u001b[0m\n\u001b[1;32m    703\u001b[0m \u001b[38;5;28;01mwhile\u001b[39;00m \u001b[38;5;28;01mTrue\u001b[39;00m:\n\u001b[1;32m    704\u001b[0m     \u001b[38;5;28;01mtry\u001b[39;00m:\n\u001b[0;32m--> 705\u001b[0m         \u001b[38;5;28;01mreturn\u001b[39;00m \u001b[38;5;28;43mself\u001b[39;49m\u001b[38;5;241;43m.\u001b[39;49m\u001b[43m_sock\u001b[49m\u001b[38;5;241;43m.\u001b[39;49m\u001b[43mrecv_into\u001b[49m\u001b[43m(\u001b[49m\u001b[43mb\u001b[49m\u001b[43m)\u001b[49m\n\u001b[1;32m    706\u001b[0m     \u001b[38;5;28;01mexcept\u001b[39;00m timeout:\n\u001b[1;32m    707\u001b[0m         \u001b[38;5;28mself\u001b[39m\u001b[38;5;241m.\u001b[39m_timeout_occurred \u001b[38;5;241m=\u001b[39m \u001b[38;5;28;01mTrue\u001b[39;00m\n",
      "File \u001b[0;32m/usr/lib/python3.10/ssl.py:1303\u001b[0m, in \u001b[0;36mSSLSocket.recv_into\u001b[0;34m(self, buffer, nbytes, flags)\u001b[0m\n\u001b[1;32m   1299\u001b[0m     \u001b[38;5;28;01mif\u001b[39;00m flags \u001b[38;5;241m!=\u001b[39m \u001b[38;5;241m0\u001b[39m:\n\u001b[1;32m   1300\u001b[0m         \u001b[38;5;28;01mraise\u001b[39;00m \u001b[38;5;167;01mValueError\u001b[39;00m(\n\u001b[1;32m   1301\u001b[0m           \u001b[38;5;124m\"\u001b[39m\u001b[38;5;124mnon-zero flags not allowed in calls to recv_into() on \u001b[39m\u001b[38;5;132;01m%s\u001b[39;00m\u001b[38;5;124m\"\u001b[39m \u001b[38;5;241m%\u001b[39m\n\u001b[1;32m   1302\u001b[0m           \u001b[38;5;28mself\u001b[39m\u001b[38;5;241m.\u001b[39m\u001b[38;5;18m__class__\u001b[39m)\n\u001b[0;32m-> 1303\u001b[0m     \u001b[38;5;28;01mreturn\u001b[39;00m \u001b[38;5;28;43mself\u001b[39;49m\u001b[38;5;241;43m.\u001b[39;49m\u001b[43mread\u001b[49m\u001b[43m(\u001b[49m\u001b[43mnbytes\u001b[49m\u001b[43m,\u001b[49m\u001b[43m \u001b[49m\u001b[43mbuffer\u001b[49m\u001b[43m)\u001b[49m\n\u001b[1;32m   1304\u001b[0m \u001b[38;5;28;01melse\u001b[39;00m:\n\u001b[1;32m   1305\u001b[0m     \u001b[38;5;28;01mreturn\u001b[39;00m \u001b[38;5;28msuper\u001b[39m()\u001b[38;5;241m.\u001b[39mrecv_into(buffer, nbytes, flags)\n",
      "File \u001b[0;32m/usr/lib/python3.10/ssl.py:1159\u001b[0m, in \u001b[0;36mSSLSocket.read\u001b[0;34m(self, len, buffer)\u001b[0m\n\u001b[1;32m   1157\u001b[0m \u001b[38;5;28;01mtry\u001b[39;00m:\n\u001b[1;32m   1158\u001b[0m     \u001b[38;5;28;01mif\u001b[39;00m buffer \u001b[38;5;129;01mis\u001b[39;00m \u001b[38;5;129;01mnot\u001b[39;00m \u001b[38;5;28;01mNone\u001b[39;00m:\n\u001b[0;32m-> 1159\u001b[0m         \u001b[38;5;28;01mreturn\u001b[39;00m \u001b[38;5;28;43mself\u001b[39;49m\u001b[38;5;241;43m.\u001b[39;49m\u001b[43m_sslobj\u001b[49m\u001b[38;5;241;43m.\u001b[39;49m\u001b[43mread\u001b[49m\u001b[43m(\u001b[49m\u001b[38;5;28;43mlen\u001b[39;49m\u001b[43m,\u001b[49m\u001b[43m \u001b[49m\u001b[43mbuffer\u001b[49m\u001b[43m)\u001b[49m\n\u001b[1;32m   1160\u001b[0m     \u001b[38;5;28;01melse\u001b[39;00m:\n\u001b[1;32m   1161\u001b[0m         \u001b[38;5;28;01mreturn\u001b[39;00m \u001b[38;5;28mself\u001b[39m\u001b[38;5;241m.\u001b[39m_sslobj\u001b[38;5;241m.\u001b[39mread(\u001b[38;5;28mlen\u001b[39m)\n",
      "\u001b[0;31mKeyboardInterrupt\u001b[0m: "
     ]
    }
   ],
   "source": [
    "def call_contract(proposal_metadata):\n",
    "    public_key=\"tz1T5kk65F9oZw2z1YV4osfcrX7eD5KtLj3c\"\n",
    "    mers=False\n",
    "    something=None\n",
    "    global stuff\n",
    "    try:\n",
    "        result = contract.propose(public_key, 10000, proposal_metadata ).send(min_confirmations=1)\n",
    "        mers=True\n",
    "    except Exception as e:\n",
    "        print(\"exception: \",e)\n",
    "        something=e\n",
    "    if not mers:\n",
    "        return something\n",
    "    else:\n",
    "        return \"Transaction submitted.\"\n",
    "call_contract(proposal_metadata=hex_string)"
   ]
  },
  {
   "cell_type": "code",
   "execution_count": 23,
   "metadata": {},
   "outputs": [
    {
     "name": "stdout",
     "output_type": "stream",
     "text": [
      "exception:  ({'id': 'proto.020-PsParisC.michelson_v1.script_rejected',\n",
      "  'kind': 'temporary',\n",
      "  'location': 294,\n",
      "  'with': {'int': '111'}},)\n"
     ]
    },
    {
     "data": {
      "text/plain": [
       "pytezos.rpc.errors.MichelsonError({'kind': 'temporary',\n",
       "                                   'id': 'proto.020-PsParisC.michelson_v1.script_rejected',\n",
       "                                   'location': 294,\n",
       "                                   'with': {'int': '111'}})"
      ]
     },
     "execution_count": 23,
     "metadata": {},
     "output_type": "execute_result"
    }
   ],
   "source": [
    "# import json\n",
    "# import binascii\n",
    "# lambda_code='''(lambda %new_handler (unit) : unit\n",
    "#   {\n",
    "#     DROP;\n",
    "#     NIL operation;\n",
    "#     PAIR;\n",
    "#   })'''\n",
    "# # Example Michelson code\n",
    "# michelson_code = lambda_code\n",
    "\n",
    "# lines = lambda_code.strip().split(';')\n",
    "# micheline = {'parameter': lines[0].split()[1], 'storage': lines[1].split()[1], 'code': lines[2].strip()}\n",
    "# micheline_json = json.dumps(micheline)\n",
    "# encoded_bytes = micheline_json.encode('utf-8')\n",
    "# hex_string = binascii.hexlify(encoded_bytes).decode('utf-8')\n",
    "# print(hex_string)\n",
    "testnet1=\"https://ghostnet.ecadinfra.com\"\n",
    "testnet2=\"https://rpc.ghostnet.teztnets.com\"\n",
    "\n",
    "from pytezos import pytezos\n",
    "from dotenv import dotenv_values\n",
    "# Load the .env file\n",
    "env_vars = dotenv_values(\".env\")\n",
    "private_key=env_vars.get(\"TEZOS_WALLET_1\")\n",
    "pytezos = pytezos.using(key=private_key, shell=testnet2)\n",
    "# Define the contract address\n",
    "contract_address = 'KT1VG3ynsnyxFGzw9mdBwYnyZAF8HZvqnNkw' #DAO Thursday Bug Hunt\n",
    "# contract_address = 'KT1Je4UBengJdFq28TnecpsmiR73Au4bG9U6' #simple function contract\n",
    "# Load the contract\n",
    "contract = pytezos.contract(contract_address)\n",
    "\n",
    "import json\n",
    "import binascii\n",
    "lambda_code='''(lambda %new_handler (unit) : unit\n",
    "  {\n",
    "    DROP;\n",
    "    NIL operation;\n",
    "    PAIR;\n",
    "  })'''\n",
    "# Example Michelson code\n",
    "michelson_code = lambda_code\n",
    "\n",
    "lines = lambda_code.strip().split(';')\n",
    "micheline = {'parameter': lines[0].split()[1], 'storage': lines[1].split()[1], 'code': lines[2].strip()}\n",
    "micheline_json = json.dumps(micheline)\n",
    "encoded_bytes = micheline_json.encode('utf-8')\n",
    "hex_string = binascii.hexlify(encoded_bytes).decode('utf-8')\n",
    "\n",
    "\n",
    "def call_contract(proposal_metadata):\n",
    "    global hex_string\n",
    "    public_key=\"tz1T5kk65F9oZw2z1YV4osfcrX7eD5KtLj3c\"\n",
    "    mers=False\n",
    "    something=None\n",
    "    global stuff\n",
    "    try:\n",
    "        result = contract.propose(public_key, 10000, proposal_metadata ).send(min_confirmations=1)\n",
    "        mers=True\n",
    "    except Exception as e:\n",
    "        print(\"exception: \",e)\n",
    "        something=e\n",
    "    if not mers:\n",
    "        return something\n",
    "    else:\n",
    "        return \"Transaction submitted.\"\n",
    "call_contract(proposal_metadata=hex_string)"
   ]
  },
  {
   "cell_type": "code",
   "execution_count": 157,
   "metadata": {},
   "outputs": [
    {
     "ename": "ImportError",
     "evalue": "cannot import name 'MichelsonRuntime' from 'pytezos.michelson' (/usr/local/lib/python3.10/dist-packages/pytezos/michelson/__init__.py)",
     "output_type": "error",
     "traceback": [
      "\u001b[0;31m---------------------------------------------------------------------------\u001b[0m",
      "\u001b[0;31mImportError\u001b[0m                               Traceback (most recent call last)",
      "Cell \u001b[0;32mIn[157], line 1\u001b[0m\n\u001b[0;32m----> 1\u001b[0m \u001b[38;5;28;01mfrom\u001b[39;00m \u001b[38;5;21;01mpytezos\u001b[39;00m\u001b[38;5;21;01m.\u001b[39;00m\u001b[38;5;21;01mmichelson\u001b[39;00m \u001b[38;5;28;01mimport\u001b[39;00m MichelsonRuntime\n",
      "\u001b[0;31mImportError\u001b[0m: cannot import name 'MichelsonRuntime' from 'pytezos.michelson' (/usr/local/lib/python3.10/dist-packages/pytezos/michelson/__init__.py)"
     ]
    }
   ],
   "source": [
    "from pytezos import michelson\n",
    "\n",
    "# Example Michelson code as a string\n",
    "michelson_code = \"\"\"\n",
    "parameter string;\n",
    "storage string;\n",
    "code { DUP; DIP { CAR ; NIL string ; SWAP ; CONS } ; CDR ; CONS ; CONCAT ; NIL operation; PAIR }\n",
    "\"\"\"\n",
    "\n",
    "# Parse Michelson code\n",
    "micheline = michelson.parse(michelson_code)\n",
    "\n",
    "# Encode Micheline to bytes\n",
    "encoded_bytes = michelson.pack(micheline)\n",
    "\n",
    "print(encoded_bytes)\n"
   ]
  },
  {
   "cell_type": "code",
   "execution_count": 156,
   "metadata": {},
   "outputs": [],
   "source": [
    "from pytezos import michelson\n",
    "\n",
    "# Define the Michelson code for the lambda function\n",
    "michelson_code = '''\n",
    "(Pair \"my_custom_handler\" (lambda unit (list operation) {\n",
    "  DROP;\n",
    "  NIL operation;\n",
    "  PAIR;\n",
    "}))\n",
    "'''\n",
    "\n",
    "# Encode the Michelson code to bytes\n",
    "encoded_bytes = michelson.(michelson_code)\n",
    "hex_encoded_bytes = encoded_bytes.hex()\n",
    "\n",
    "print(hex_encoded_bytes)"
   ]
  },
  {
   "cell_type": "code",
   "execution_count": 155,
   "metadata": {},
   "outputs": [],
   "source": [
    "import importlib\n",
    "from python.tools.contract_interaction import ContractInteraction"
   ]
  },
  {
   "cell_type": "code",
   "execution_count": null,
   "metadata": {},
   "outputs": [],
   "source": []
  },
  {
   "cell_type": "code",
   "execution_count": 99,
   "metadata": {},
   "outputs": [
    {
     "data": {
      "text/plain": [
       "<function OperationGroup.message at 0x7fbaac137010>\n",
       "Get payload for the failing noop operation\n",
       "\n",
       ":param block: Specify operation branch (default is genesis)\n",
       ":returns: Message bytes"
      ]
     },
     "execution_count": 99,
     "metadata": {},
     "output_type": "execute_result"
    }
   ],
   "source": [
    "result"
   ]
  },
  {
   "cell_type": "code",
   "execution_count": 67,
   "metadata": {},
   "outputs": [
    {
     "data": {
      "text/plain": [
       "<pytezos.operation.group.OperationGroup object at 0x7fba8f725660>\n",
       "\n",
       "Properties\n",
       ".key\t\ttz1T5kk65F9oZw2z1YV4osfcrX7eD5KtLj3c\n",
       ".shell\t\t['https://ghostnet.ecadinfra.com']\n",
       ".block_id\thead\n",
       "\n",
       "Payload\n",
       "{'branch': 'BM8TXcSig7XYtRwbVKuhwSngFXtwgvXZSM4oQ9VWxtkxy1ekQXQ',\n",
       " 'contents': [{'amount': '0',\n",
       "               'counter': '10914431',\n",
       "               'destination': 'KT1VG3ynsnyxFGzw9mdBwYnyZAF8HZvqnNkw',\n",
       "               'fee': '353',\n",
       "               'gas_limit': '683',\n",
       "               'kind': 'transaction',\n",
       "               'parameters': {'entrypoint': 'registryCepDummy',\n",
       "                              'value': {'prim': 'Unit'}},\n",
       "               'source': 'tz1T5kk65F9oZw2z1YV4osfcrX7eD5KtLj3c',\n",
       "               'storage_limit': '100'}],\n",
       " 'protocol': 'PsParisCZo7KAh1Z1smVd9ZMZ1HHn5gkzbM94V3PLCpknFWhUAi',\n",
       " 'signature': 'sigsMJAfh2GKcQu9rSee2AivVktaQfeAQzAobE2rFTsKKn2CXmzkiLRcJ9WX4Z2627tY8frzb2VLzawvDnMXEtzW6rXa4yab'}\n",
       "\n",
       "Hash\n",
       "oogFfyJVk2yV9DgzhyF2PoKqv5iY9dbojyFcr6Wm5bAKP3ZA7F6\n",
       ".activate_account()\n",
       ".autofill()\n",
       ".ballot()\n",
       ".binary_payload()\n",
       ".delegation()\n",
       ".double_baking_evidence()\n",
       ".double_endorsement_evidence()\n",
       ".endorsement()\n",
       ".endorsement_with_slot()\n",
       ".failing_noop()\n",
       ".fill()\n",
       ".forge()\n",
       ".hash()\n",
       ".inject()\n",
       ".json_payload()\n",
       ".message()\n",
       ".operation()\n",
       ".origination()\n",
       ".preapply()\n",
       ".proposals()\n",
       ".register_global_constant()\n",
       ".result()\n",
       ".reveal()\n",
       ".run()\n",
       ".run_operation()\n",
       ".seed_nonce_revelation()\n",
       ".send()\n",
       ".send_async()\n",
       ".sign()\n",
       ".smart_rollup_add_messages()\n",
       ".smart_rollup_execute_outbox_message()\n",
       ".transaction()\n",
       ".transfer_ticket()"
      ]
     },
     "execution_count": 67,
     "metadata": {},
     "output_type": "execute_result"
    }
   ],
   "source": [
    "result"
   ]
  }
 ],
 "metadata": {
  "kernelspec": {
   "display_name": "Python 3",
   "language": "python",
   "name": "python3"
  },
  "language_info": {
   "codemirror_mode": {
    "name": "ipython",
    "version": 3
   },
   "file_extension": ".py",
   "mimetype": "text/x-python",
   "name": "python",
   "nbconvert_exporter": "python",
   "pygments_lexer": "ipython3",
   "version": "3.10.12"
  }
 },
 "nbformat": 4,
 "nbformat_minor": 2
}
